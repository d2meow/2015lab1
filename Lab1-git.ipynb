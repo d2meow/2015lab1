{
 "cells": [
  {
   "cell_type": "markdown",
   "metadata": {},
   "source": [
    "# Lab 1: Version Control with Git"
   ]
  },
  {
   "cell_type": "code",
   "execution_count": 1,
   "metadata": {},
   "outputs": [
    {
     "name": "stdout",
     "output_type": "stream",
     "text": [
      "git version 2.17.1\r\n"
     ]
    }
   ],
   "source": [
    "! git --version"
   ]
  },
  {
   "cell_type": "code",
   "execution_count": 18,
   "metadata": {},
   "outputs": [
    {
     "name": "stdout",
     "output_type": "stream",
     "text": [
      "error: unknown switch `a'\r\n",
      "usage: git add [<options>] [--] <pathspec>...\r\n",
      "\r\n",
      "    -n, --dry-run         dry run\r\n",
      "    -v, --verbose         be verbose\r\n",
      "\r\n",
      "    -i, --interactive     interactive picking\r\n",
      "    -p, --patch           select hunks interactively\r\n",
      "    -e, --edit            edit current diff and apply\r\n",
      "    -f, --force           allow adding otherwise ignored files\r\n",
      "    -u, --update          update tracked files\r\n",
      "    -N, --intent-to-add   record only the fact that the path will be added later\r\n",
      "    -A, --all             add changes from all tracked and untracked files\r\n",
      "    --ignore-removal      ignore paths removed in the working tree (same as --no-all)\r\n",
      "    --refresh             don't add, only refresh the index\r\n",
      "    --ignore-errors       just skip files which cannot be added because of errors\r\n",
      "    --ignore-missing      check if - even missing - files are ignored in dry run\r\n",
      "    --chmod <(+/-)x>      override the executable bit of the listed files\r\n",
      "\r\n"
     ]
    }
   ],
   "source": [
    "! git add -a"
   ]
  },
  {
   "cell_type": "code",
   "execution_count": 1,
   "metadata": {},
   "outputs": [
    {
     "name": "stdout",
     "output_type": "stream",
     "text": [
      "On branch master\r\n",
      "Your branch is up to date with 'origin/master'.\r\n",
      "\r\n",
      "Changes to be committed:\r\n",
      "  (use \"git reset HEAD <file>...\" to unstage)\r\n",
      "\r\n",
      "\t\u001b[32mmodified:   Lab1-git.ipynb\u001b[m\r\n",
      "\t\u001b[32mmodified:   Lab1-pythonpandas.ipynb\u001b[m\r\n",
      "\t\u001b[32mmodified:   hw0.ipynb\u001b[m\r\n",
      "\r\n",
      "Changes not staged for commit:\r\n",
      "  (use \"git add <file>...\" to update what will be committed)\r\n",
      "  (use \"git checkout -- <file>...\" to discard changes in working directory)\r\n",
      "\r\n",
      "\t\u001b[31mmodified:   Lab1-git.ipynb\u001b[m\r\n",
      "\r\n"
     ]
    }
   ],
   "source": [
    "! git status"
   ]
  },
  {
   "cell_type": "code",
   "execution_count": 3,
   "metadata": {},
   "outputs": [
    {
     "name": "stdout",
     "output_type": "stream",
     "text": [
      "GIT-COMMIT(1)                     Git Manual                     GIT-COMMIT(1)\r\n",
      "\r\n",
      "\r\n",
      "\r\n",
      "N\bNA\bAM\bME\bE\r\n",
      "       git-commit - Record changes to the repository\r\n",
      "\r\n",
      "S\bSY\bYN\bNO\bOP\bPS\bSI\bIS\bS\r\n",
      "       _\bg_\bi_\bt _\bc_\bo_\bm_\bm_\bi_\bt [-a | --interactive | --patch] [-s] [-v] [-u<mode>] [--amend]\r\n",
      "                  [--dry-run] [(-c | -C | --fixup | --squash) <commit>]\r\n",
      "                  [-F <file> | -m <msg>] [--reset-author] [--allow-empty]\r\n",
      "                  [--allow-empty-message] [--no-verify] [-e] [--author=<author>]\r\n",
      "                  [--date=<date>] [--cleanup=<mode>] [--[no-]status]\r\n",
      "                  [-i | -o] [-S[<keyid>]] [--] [<file>...]\r\n",
      "\r\n",
      "\r\n",
      "D\bDE\bES\bSC\bCR\bRI\bIP\bPT\bTI\bIO\bON\bN\r\n",
      "       Stores the current contents of the index in a new commit along with a\r\n",
      "       log message from the user describing the changes.\r\n",
      "\r\n",
      "       The content to be added can be specified in several ways:\r\n",
      "\r\n",
      "        1. by using _\bg_\bi_\bt _\ba_\bd_\bd to incrementally \"add\" changes to the index before\r\n",
      "           using the _\bc_\bo_\bm_\bm_\bi_\bt command (Note: even modified files must be\r\n",
      "           \"added\");\r\n",
      "\r\n",
      "        2. by using _\bg_\bi_\bt _\br_\bm to remove files from the working tree and the\r\n",
      "           index, again before using the _\bc_\bo_\bm_\bm_\bi_\bt command;\r\n",
      "\r\n",
      "        3. by listing files as arguments to the _\bc_\bo_\bm_\bm_\bi_\bt command (without\r\n",
      "           --interactive or --patch switch), in which case the commit will\r\n",
      "           ignore changes staged in the index, and instead record the current\r\n",
      "           content of the listed files (which must already be known to Git);\r\n",
      "\r\n",
      "        4. by using the -a switch with the _\bc_\bo_\bm_\bm_\bi_\bt command to automatically\r\n",
      "           \"add\" changes from all known files (i.e. all files that are already\r\n",
      "           listed in the index) and to automatically \"rm\" files in the index\r\n",
      "           that have been removed from the working tree, and then perform the\r\n",
      "           actual commit;\r\n",
      "\r\n",
      "        5. by using the --interactive or --patch switches with the _\bc_\bo_\bm_\bm_\bi_\bt\r\n",
      "           command to decide one by one which files or hunks should be part of\r\n",
      "           the commit in addition to contents in the index, before finalizing\r\n",
      "           the operation. See the \"Interactive Mode\" section of g\bgi\bit\bt-\b-a\bad\bdd\bd(1) to\r\n",
      "           learn how to operate these modes.\r\n",
      "\r\n",
      "       The -\b--\b-d\bdr\bry\by-\b-r\bru\bun\bn option can be used to obtain a summary of what is\r\n",
      "       included by any of the above for the next commit by giving the same set\r\n",
      "       of parameters (options and paths).\r\n",
      "\r\n",
      "       If you make a commit and then find a mistake immediately after that,\r\n",
      "       you can recover from it with _\bg_\bi_\bt _\br_\be_\bs_\be_\bt.\r\n",
      "\r\n",
      "O\bOP\bPT\bTI\bIO\bON\bNS\bS\r\n",
      "       -a, --all\r\n",
      "           Tell the command to automatically stage files that have been\r\n",
      "           modified and deleted, but new files you have not told Git about are\r\n",
      "           not affected.\r\n",
      "\r\n",
      "       -p, --patch\r\n",
      "           Use the interactive patch selection interface to chose which\r\n",
      "           changes to commit. See g\bgi\bit\bt-\b-a\bad\bdd\bd(1) for details.\r\n",
      "\r\n",
      "       -C <commit>, --reuse-message=<commit>\r\n",
      "           Take an existing commit object, and reuse the log message and the\r\n",
      "           authorship information (including the timestamp) when creating the\r\n",
      "           commit.\r\n",
      "\r\n",
      "       -c <commit>, --reedit-message=<commit>\r\n",
      "           Like _\b-_\bC, but with -\b-c\bc the editor is invoked, so that the user can\r\n",
      "           further edit the commit message.\r\n",
      "\r\n",
      "       --fixup=<commit>\r\n",
      "           Construct a commit message for use with r\bre\beb\bba\bas\bse\be -\b--\b-a\bau\but\bto\bos\bsq\bqu\bua\bas\bsh\bh. The\r\n",
      "           commit message will be the subject line from the specified commit\r\n",
      "           with a prefix of \"fixup! \". See g\bgi\bit\bt-\b-r\bre\beb\bba\bas\bse\be(1) for details.\r\n",
      "\r\n",
      "       --squash=<commit>\r\n",
      "           Construct a commit message for use with r\bre\beb\bba\bas\bse\be -\b--\b-a\bau\but\bto\bos\bsq\bqu\bua\bas\bsh\bh. The\r\n",
      "           commit message subject line is taken from the specified commit with\r\n",
      "           a prefix of \"squash! \". Can be used with additional commit message\r\n",
      "           options (-\b-m\bm/-\b-c\bc/-\b-C\bC/-\b-F\bF). See g\bgi\bit\bt-\b-r\bre\beb\bba\bas\bse\be(1) for details.\r\n",
      "\r\n",
      "       --reset-author\r\n",
      "           When used with -C/-c/--amend options, or when committing after a\r\n",
      "           conflicting cherry-pick, declare that the authorship of the\r\n",
      "           resulting commit now belongs to the committer. This also renews the\r\n",
      "           author timestamp.\r\n",
      "\r\n",
      "       --short\r\n",
      "           When doing a dry-run, give the output in the short-format. See g\bgi\bit\bt-\b-\r\n",
      "           s\bst\bta\bat\btu\bus\bs(1) for details. Implies -\b--\b-d\bdr\bry\by-\b-r\bru\bun\bn.\r\n",
      "\r\n",
      "       --branch\r\n",
      "           Show the branch and tracking info even in short-format.\r\n",
      "\r\n",
      "       --porcelain\r\n",
      "           When doing a dry-run, give the output in a porcelain-ready format.\r\n",
      "           See g\bgi\bit\bt-\b-s\bst\bta\bat\btu\bus\bs(1) for details. Implies -\b--\b-d\bdr\bry\by-\b-r\bru\bun\bn.\r\n",
      "\r\n",
      "       --long\r\n",
      "           When doing a dry-run, give the output in the long-format. Implies\r\n",
      "           -\b--\b-d\bdr\bry\by-\b-r\bru\bun\bn.\r\n",
      "\r\n",
      "       -z, --null\r\n",
      "           When showing s\bsh\bho\bor\brt\bt or p\bpo\bor\brc\bce\bel\bla\bai\bin\bn status output, print the filename\r\n",
      "           verbatim and terminate the entries with NUL, instead of LF. If no\r\n",
      "           format is given, implies the -\b--\b-p\bpo\bor\brc\bce\bel\bla\bai\bin\bn output format. Without the\r\n",
      "           -\b-z\bz option, filenames with \"unusual\" characters are quoted as\r\n",
      "           explained for the configuration variable c\bco\bor\bre\be.\b.q\bqu\buo\bot\bte\beP\bPa\bat\bth\bh (see g\bgi\bit\bt-\b-\r\n",
      "           c\bco\bon\bnf\bfi\big\bg(1)).\r\n",
      "\r\n",
      "       -F <file>, --file=<file>\r\n",
      "           Take the commit message from the given file. Use _\b- to read the\r\n",
      "           message from the standard input.\r\n",
      "\r\n",
      "       --author=<author>\r\n",
      "           Override the commit author. Specify an explicit author using the\r\n",
      "           standard A\bA U\bU T\bTh\bho\bor\br <\b<a\bau\but\bth\bho\bor\br@\b@e\bex\bxa\bam\bmp\bpl\ble\be.\b.c\bco\bom\bm>\b> format. Otherwise <author>\r\n",
      "           is assumed to be a pattern and is used to search for an existing\r\n",
      "           commit by that author (i.e. rev-list --all -i --author=<author>);\r\n",
      "           the commit author is then copied from the first such commit found.\r\n",
      "\r\n",
      "       --date=<date>\r\n",
      "           Override the author date used in the commit.\r\n",
      "\r\n",
      "       -m <msg>, --message=<msg>\r\n",
      "           Use the given <msg> as the commit message. If multiple -\b-m\bm options\r\n",
      "           are given, their values are concatenated as separate paragraphs.\r\n",
      "\r\n",
      "           The -\b-m\bm option is mutually exclusive with -\b-c\bc, -\b-C\bC, and -\b-F\bF.\r\n",
      "\r\n",
      "       -t <file>, --template=<file>\r\n",
      "           When editing the commit message, start the editor with the contents\r\n",
      "           in the given file. The c\bco\bom\bmm\bmi\bit\bt.\b.t\bte\bem\bmp\bpl\bla\bat\bte\be configuration variable is\r\n",
      "           often used to give this option implicitly to the command. This\r\n",
      "           mechanism can be used by projects that want to guide participants\r\n",
      "           with some hints on what to write in the message in what order. If\r\n",
      "           the user exits the editor without editing the message, the commit\r\n",
      "           is aborted. This has no effect when a message is given by other\r\n",
      "           means, e.g. with the -\b-m\bm or -\b-F\bF options.\r\n",
      "\r\n",
      "       -s, --signoff\r\n",
      "           Add Signed-off-by line by the committer at the end of the commit\r\n",
      "           log message. The meaning of a signoff depends on the project, but\r\n",
      "           it typically certifies that committer has the rights to submit this\r\n",
      "           work under the same license and agrees to a Developer Certificate\r\n",
      "           of Origin (see h\bht\btt\btp\bp:\b:/\b//\b/d\bde\bev\bve\bel\blo\bop\bpe\ber\brc\bce\ber\brt\bti\bif\bfi\bic\bca\bat\bte\be.\b.o\bor\brg\bg/\b/ for more\r\n",
      "           information).\r\n",
      "\r\n",
      "       -n, --no-verify\r\n",
      "           This option bypasses the pre-commit and commit-msg hooks. See also\r\n",
      "           g\bgi\bit\bth\bho\boo\bok\bks\bs(5).\r\n",
      "\r\n",
      "       --allow-empty\r\n",
      "           Usually recording a commit that has the exact same tree as its sole\r\n",
      "           parent commit is a mistake, and the command prevents you from\r\n",
      "           making such a commit. This option bypasses the safety, and is\r\n",
      "           primarily for use by foreign SCM interface scripts.\r\n",
      "\r\n",
      "       --allow-empty-message\r\n",
      "           Like --allow-empty this command is primarily for use by foreign SCM\r\n",
      "           interface scripts. It allows you to create a commit with an empty\r\n",
      "           commit message without using plumbing commands like g\bgi\bit\bt-\b-c\bco\bom\bmm\bmi\bit\bt-\b-\r\n",
      "           t\btr\bre\bee\be(1).\r\n",
      "\r\n",
      "       --cleanup=<mode>\r\n",
      "           This option determines how the supplied commit message should be\r\n",
      "           cleaned up before committing. The _\b<_\bm_\bo_\bd_\be_\b> can be s\bst\btr\bri\bip\bp, w\bwh\bhi\bit\bte\bes\bsp\bpa\bac\bce\be,\r\n",
      "           v\bve\ber\brb\bba\bat\bti\bim\bm, s\bsc\bci\bis\bss\bso\bor\brs\bs or d\bde\bef\bfa\bau\bul\blt\bt.\r\n",
      "\r\n",
      "           strip\r\n",
      "               Strip leading and trailing empty lines, trailing whitespace,\r\n",
      "               commentary and collapse consecutive empty lines.\r\n",
      "\r\n",
      "           whitespace\r\n",
      "               Same as s\bst\btr\bri\bip\bp except #commentary is not removed.\r\n",
      "\r\n",
      "           verbatim\r\n",
      "               Do not change the message at all.\r\n",
      "\r\n",
      "           scissors\r\n",
      "               Same as w\bwh\bhi\bit\bte\bes\bsp\bpa\bac\bce\be except that everything from (and including)\r\n",
      "               the line found below is truncated, if the message is to be\r\n",
      "               edited. \"#\b#\" can be customized with core.commentChar.\r\n",
      "\r\n",
      "                   # ------------------------ >8 ------------------------\r\n",
      "\r\n",
      "           default\r\n",
      "               Same as s\bst\btr\bri\bip\bp if the message is to be edited. Otherwise\r\n",
      "               w\bwh\bhi\bit\bte\bes\bsp\bpa\bac\bce\be.\r\n",
      "\r\n",
      "           The default can be changed by the c\bco\bom\bmm\bmi\bit\bt.\b.c\bcl\ble\bea\ban\bnu\bup\bp configuration\r\n",
      "           variable (see g\bgi\bit\bt-\b-c\bco\bon\bnf\bfi\big\bg(1)).\r\n",
      "\r\n",
      "       -e, --edit\r\n",
      "           The message taken from file with -\b-F\bF, command line with -\b-m\bm, and from\r\n",
      "           commit object with -\b-C\bC are usually used as the commit log message\r\n",
      "           unmodified. This option lets you further edit the message taken\r\n",
      "           from these sources.\r\n",
      "\r\n",
      "       --no-edit\r\n",
      "           Use the selected commit message without launching an editor. For\r\n",
      "           example, g\bgi\bit\bt c\bco\bom\bmm\bmi\bit\bt -\b--\b-a\bam\bme\ben\bnd\bd -\b--\b-n\bno\bo-\b-e\bed\bdi\bit\bt amends a commit without\r\n",
      "           changing its commit message.\r\n",
      "\r\n",
      "       --amend\r\n",
      "           Replace the tip of the current branch by creating a new commit. The\r\n",
      "           recorded tree is prepared as usual (including the effect of the -\b-i\bi\r\n",
      "           and -\b-o\bo options and explicit pathspec), and the message from the\r\n",
      "           original commit is used as the starting point, instead of an empty\r\n",
      "           message, when no other message is specified from the command line\r\n",
      "           via options such as -\b-m\bm, -\b-F\bF, -\b-c\bc, etc. The new commit has the same\r\n",
      "           parents and author as the current one (the -\b--\b-r\bre\bes\bse\bet\bt-\b-a\bau\but\bth\bho\bor\br option\r\n",
      "           can countermand this).\r\n",
      "\r\n",
      "           It is a rough equivalent for:\r\n",
      "\r\n",
      "                       $ git reset --soft HEAD^\r\n",
      "                       $ ... do something else to come up with the right tree ...\r\n",
      "                       $ git commit -c ORIG_HEAD\r\n",
      "\r\n",
      "           but can be used to amend a merge commit.\r\n",
      "\r\n",
      "           You should understand the implications of rewriting history if you\r\n",
      "           amend a commit that has already been published. (See the\r\n",
      "           \"RECOVERING FROM UPSTREAM REBASE\" section in g\bgi\bit\bt-\b-r\bre\beb\bba\bas\bse\be(1).)\r\n",
      "\r\n",
      "       --no-post-rewrite\r\n",
      "           Bypass the post-rewrite hook.\r\n",
      "\r\n",
      "       -i, --include\r\n",
      "           Before making a commit out of staged contents so far, stage the\r\n",
      "           contents of paths given on the command line as well. This is\r\n",
      "           usually not what you want unless you are concluding a conflicted\r\n",
      "           merge.\r\n",
      "\r\n",
      "       -o, --only\r\n",
      "           Make a commit by taking the updated working tree contents of the\r\n",
      "           paths specified on the command line, disregarding any contents that\r\n",
      "           have been staged for other paths. This is the default mode of\r\n",
      "           operation of _\bg_\bi_\bt _\bc_\bo_\bm_\bm_\bi_\bt if any paths are given on the command line,\r\n",
      "           in which case this option can be omitted. If this option is\r\n",
      "           specified together with -\b--\b-a\bam\bme\ben\bnd\bd, then no paths need to be\r\n",
      "           specified, which can be used to amend the last commit without\r\n",
      "           committing changes that have already been staged. If used together\r\n",
      "           with -\b--\b-a\bal\bll\blo\bow\bw-\b-e\bem\bmp\bpt\bty\by paths are also not required, and an empty commit\r\n",
      "           will be created.\r\n",
      "\r\n",
      "       -u[<mode>], --untracked-files[=<mode>]\r\n",
      "           Show untracked files.\r\n",
      "\r\n",
      "           The mode parameter is optional (defaults to _\ba_\bl_\bl), and is used to\r\n",
      "           specify the handling of untracked files; when -u is not used, the\r\n",
      "           default is _\bn_\bo_\br_\bm_\ba_\bl, i.e. show untracked files and directories.\r\n",
      "\r\n",
      "           The possible options are:\r\n",
      "\r\n",
      "           +\bo   _\bn_\bo - Show no untracked files\r\n",
      "\r\n",
      "           +\bo   _\bn_\bo_\br_\bm_\ba_\bl - Shows untracked files and directories\r\n",
      "\r\n",
      "           +\bo   _\ba_\bl_\bl - Also shows individual files in untracked directories.\r\n",
      "\r\n",
      "               The default can be changed using the status.showUntrackedFiles\r\n",
      "               configuration variable documented in g\bgi\bit\bt-\b-c\bco\bon\bnf\bfi\big\bg(1).\r\n",
      "\r\n",
      "       -v, --verbose\r\n",
      "           Show unified diff between the HEAD commit and what would be\r\n",
      "           committed at the bottom of the commit message template to help the\r\n",
      "           user describe the commit by reminding what changes the commit has.\r\n",
      "           Note that this diff output doesn't have its lines prefixed with _\b#.\r\n",
      "           This diff will not be a part of the commit message. See the\r\n",
      "           c\bco\bom\bmm\bmi\bit\bt.\b.v\bve\ber\brb\bbo\bos\bse\be configuration variable in g\bgi\bit\bt-\b-c\bco\bon\bnf\bfi\big\bg(1).\r\n",
      "\r\n",
      "           If specified twice, show in addition the unified diff between what\r\n",
      "           would be committed and the worktree files, i.e. the unstaged\r\n",
      "           changes to tracked files.\r\n",
      "\r\n",
      "       -q, --quiet\r\n",
      "           Suppress commit summary message.\r\n",
      "\r\n",
      "       --dry-run\r\n",
      "           Do not create a commit, but show a list of paths that are to be\r\n",
      "           committed, paths with local changes that will be left uncommitted\r\n",
      "           and paths that are untracked.\r\n",
      "\r\n",
      "       --status\r\n",
      "           Include the output of g\bgi\bit\bt-\b-s\bst\bta\bat\btu\bus\bs(1) in the commit message template\r\n",
      "           when using an editor to prepare the commit message. Defaults to on,\r\n",
      "           but can be used to override configuration variable commit.status.\r\n",
      "\r\n",
      "       --no-status\r\n",
      "           Do not include the output of g\bgi\bit\bt-\b-s\bst\bta\bat\btu\bus\bs(1) in the commit message\r\n",
      "           template when using an editor to prepare the default commit\r\n",
      "           message.\r\n",
      "\r\n",
      "       -S[<keyid>], --gpg-sign[=<keyid>]\r\n",
      "           GPG-sign commits. The k\bke\bey\byi\bid\bd argument is optional and defaults to\r\n",
      "           the committer identity; if specified, it must be stuck to the\r\n",
      "           option without a space.\r\n",
      "\r\n",
      "       --no-gpg-sign\r\n",
      "           Countermand c\bco\bom\bmm\bmi\bit\bt.\b.g\bgp\bpg\bgS\bSi\big\bgn\bn configuration variable that is set to\r\n",
      "           force each and every commit to be signed.\r\n",
      "\r\n",
      "       --\r\n",
      "           Do not interpret any more arguments as options.\r\n",
      "\r\n",
      "       <file>...\r\n",
      "           When files are given on the command line, the command commits the\r\n",
      "           contents of the named files, without recording the changes already\r\n",
      "           staged. The contents of these files are also staged for the next\r\n",
      "           commit on top of what have been staged before.\r\n",
      "\r\n",
      "D\bDA\bAT\bTE\bE F\bFO\bOR\bRM\bMA\bAT\bTS\bS\r\n",
      "       The G\bGI\bIT\bT_\b_A\bAU\bUT\bTH\bHO\bOR\bR_\b_D\bDA\bAT\bTE\bE, G\bGI\bIT\bT_\b_C\bCO\bOM\bMM\bMI\bIT\bTT\bTE\bER\bR_\b_D\bDA\bAT\bTE\bE environment variables and the\r\n",
      "       -\b--\b-d\bda\bat\bte\be option support the following date formats:\r\n",
      "\r\n",
      "       Git internal format\r\n",
      "           It is <\b<u\bun\bni\bix\bx t\bti\bim\bme\bes\bst\bta\bam\bmp\bp>\b> <\b<t\bti\bim\bme\be z\bzo\bon\bne\be o\bof\bff\bfs\bse\bet\bt>\b>, where <\b<u\bun\bni\bix\bx t\bti\bim\bme\bes\bst\bta\bam\bmp\bp>\b>\r\n",
      "           is the number of seconds since the UNIX epoch.  <\b<t\bti\bim\bme\be z\bzo\bon\bne\be o\bof\bff\bfs\bse\bet\bt>\b>\r\n",
      "           is a positive or negative offset from UTC. For example CET (which\r\n",
      "           is 1 hour ahead of UTC) is +\b+0\b01\b10\b00\b0.\r\n",
      "\r\n",
      "       RFC 2822\r\n",
      "           The standard email format as described by RFC 2822, for example\r\n",
      "           T\bTh\bhu\bu,\b, 0\b07\b7 A\bAp\bpr\br 2\b20\b00\b05\b5 2\b22\b2:\b:1\b13\b3:\b:1\b13\b3 +\b+0\b02\b20\b00\b0.\r\n",
      "\r\n",
      "       ISO 8601\r\n",
      "           Time and date specified by the ISO 8601 standard, for example\r\n",
      "           2\b20\b00\b05\b5-\b-0\b04\b4-\b-0\b07\b7T\bT2\b22\b2:\b:1\b13\b3:\b:1\b13\b3. The parser accepts a space instead of the T\bT\r\n",
      "           character as well.\r\n",
      "\r\n",
      "               N\bNo\bot\bte\be\r\n",
      "               In addition, the date part is accepted in the following\r\n",
      "               formats: Y\bYY\bYY\bYY\bY.\b.M\bMM\bM.\b.D\bDD\bD, M\bMM\bM/\b/D\bDD\bD/\b/Y\bYY\bYY\bYY\bY and D\bDD\bD.\b.M\bMM\bM.\b.Y\bYY\bYY\bYY\bY.\r\n",
      "\r\n",
      "E\bEX\bXA\bAM\bMP\bPL\bLE\bES\bS\r\n",
      "       When recording your own work, the contents of modified files in your\r\n",
      "       working tree are temporarily stored to a staging area called the\r\n",
      "       \"index\" with _\bg_\bi_\bt _\ba_\bd_\bd. A file can be reverted back, only in the index\r\n",
      "       but not in the working tree, to that of the last commit with g\bgi\bit\bt r\bre\bes\bse\bet\bt\r\n",
      "       H\bHE\bEA\bAD\bD -\b--\b- <\b<f\bfi\bil\ble\be>\b>, which effectively reverts _\bg_\bi_\bt _\ba_\bd_\bd and prevents the\r\n",
      "       changes to this file from participating in the next commit. After\r\n",
      "       building the state to be committed incrementally with these commands,\r\n",
      "       g\bgi\bit\bt c\bco\bom\bmm\bmi\bit\bt (without any pathname parameter) is used to record what has\r\n",
      "       been staged so far. This is the most basic form of the command. An\r\n",
      "       example:\r\n",
      "\r\n",
      "           $ edit hello.c\r\n",
      "           $ git rm goodbye.c\r\n",
      "           $ git add hello.c\r\n",
      "           $ git commit\r\n",
      "\r\n",
      "\r\n",
      "       Instead of staging files after each individual change, you can tell g\bgi\bit\bt\r\n",
      "       c\bco\bom\bmm\bmi\bit\bt to notice the changes to the files whose contents are tracked in\r\n",
      "       your working tree and do corresponding g\bgi\bit\bt a\bad\bdd\bd and g\bgi\bit\bt r\brm\bm for you. That\r\n",
      "       is, this example does the same as the earlier example if there is no\r\n",
      "       other change in your working tree:\r\n",
      "\r\n",
      "           $ edit hello.c\r\n",
      "           $ rm goodbye.c\r\n",
      "           $ git commit -a\r\n",
      "\r\n",
      "\r\n",
      "       The command g\bgi\bit\bt c\bco\bom\bmm\bmi\bit\bt -\b-a\ba first looks at your working tree, notices\r\n",
      "       that you have modified hello.c and removed goodbye.c, and performs\r\n",
      "       necessary g\bgi\bit\bt a\bad\bdd\bd and g\bgi\bit\bt r\brm\bm for you.\r\n",
      "\r\n",
      "       After staging changes to many files, you can alter the order the\r\n",
      "       changes are recorded in, by giving pathnames to g\bgi\bit\bt c\bco\bom\bmm\bmi\bit\bt. When\r\n",
      "       pathnames are given, the command makes a commit that only records the\r\n",
      "       changes made to the named paths:\r\n",
      "\r\n",
      "           $ edit hello.c hello.h\r\n",
      "           $ git add hello.c hello.h\r\n",
      "           $ edit Makefile\r\n",
      "           $ git commit Makefile\r\n",
      "\r\n",
      "\r\n",
      "       This makes a commit that records the modification to M\bMa\bak\bke\bef\bfi\bil\ble\be. The\r\n",
      "       changes staged for h\bhe\bel\bll\blo\bo.\b.c\bc and h\bhe\bel\bll\blo\bo.\b.h\bh are not included in the\r\n",
      "       resulting commit. However, their changes are not lost -- they are still\r\n",
      "       staged and merely held back. After the above sequence, if you do:\r\n",
      "\r\n",
      "           $ git commit\r\n",
      "\r\n",
      "\r\n",
      "       this second commit would record the changes to h\bhe\bel\bll\blo\bo.\b.c\bc and h\bhe\bel\bll\blo\bo.\b.h\bh as\r\n",
      "       expected.\r\n",
      "\r\n",
      "       After a merge (initiated by _\bg_\bi_\bt _\bm_\be_\br_\bg_\be or _\bg_\bi_\bt _\bp_\bu_\bl_\bl) stops because of\r\n",
      "       conflicts, cleanly merged paths are already staged to be committed for\r\n",
      "       you, and paths that conflicted are left in unmerged state. You would\r\n",
      "       have to first check which paths are conflicting with _\bg_\bi_\bt _\bs_\bt_\ba_\bt_\bu_\bs and\r\n",
      "       after fixing them manually in your working tree, you would stage the\r\n",
      "       result as usual with _\bg_\bi_\bt _\ba_\bd_\bd:\r\n",
      "\r\n",
      "           $ git status | grep unmerged\r\n",
      "           unmerged: hello.c\r\n",
      "           $ edit hello.c\r\n",
      "           $ git add hello.c\r\n",
      "\r\n",
      "\r\n",
      "       After resolving conflicts and staging the result, g\bgi\bit\bt l\bls\bs-\b-f\bfi\bil\ble\bes\bs -\b-u\bu would\r\n",
      "       stop mentioning the conflicted path. When you are done, run g\bgi\bit\bt c\bco\bom\bmm\bmi\bit\bt\r\n",
      "       to finally record the merge:\r\n",
      "\r\n",
      "           $ git commit\r\n",
      "\r\n",
      "\r\n",
      "       As with the case to record your own changes, you can use -\b-a\ba option to\r\n",
      "       save typing. One difference is that during a merge resolution, you\r\n",
      "       cannot use g\bgi\bit\bt c\bco\bom\bmm\bmi\bit\bt with pathnames to alter the order the changes are\r\n",
      "       committed, because the merge should be recorded as a single commit. In\r\n",
      "       fact, the command refuses to run when given pathnames (but see -\b-i\bi\r\n",
      "       option).\r\n",
      "\r\n",
      "D\bDI\bIS\bSC\bCU\bUS\bSS\bSI\bIO\bON\bN\r\n",
      "       Though not required, it's a good idea to begin the commit message with\r\n",
      "       a single short (less than 50 character) line summarizing the change,\r\n",
      "       followed by a blank line and then a more thorough description. The text\r\n",
      "       up to the first blank line in a commit message is treated as the commit\r\n",
      "       title, and that title is used throughout Git. For example, g\bgi\bit\bt-\b-f\bfo\bor\brm\bma\bat\bt-\b-\r\n",
      "       p\bpa\bat\btc\bch\bh(1) turns a commit into email, and it uses the title on the\r\n",
      "       Subject line and the rest of the commit in the body.\r\n",
      "\r\n",
      "       Git is to some extent character encoding agnostic.\r\n",
      "\r\n",
      "       +\bo   The contents of the blob objects are uninterpreted sequences of\r\n",
      "           bytes. There is no encoding translation at the core level.\r\n",
      "\r\n",
      "       +\bo   Path names are encoded in UTF-8 normalization form C. This applies\r\n",
      "           to tree objects, the index file, ref names, as well as path names\r\n",
      "           in command line arguments, environment variables and config files\r\n",
      "           (.\b.g\bgi\bit\bt/\b/c\bco\bon\bnf\bfi\big\bg (see g\bgi\bit\bt-\b-c\bco\bon\bnf\bfi\big\bg(1)), g\bgi\bit\bti\big\bgn\bno\bor\bre\be(5), g\bgi\bit\bta\bat\btt\btr\bri\bib\bbu\but\bte\bes\bs(5)\r\n",
      "           and g\bgi\bit\btm\bmo\bod\bdu\bul\ble\bes\bs(5)).\r\n",
      "\r\n",
      "           Note that Git at the core level treats path names simply as\r\n",
      "           sequences of non-NUL bytes, there are no path name encoding\r\n",
      "           conversions (except on Mac and Windows). Therefore, using non-ASCII\r\n",
      "           path names will mostly work even on platforms and file systems that\r\n",
      "           use legacy extended ASCII encodings. However, repositories created\r\n",
      "           on such systems will not work properly on UTF-8-based systems (e.g.\r\n",
      "           Linux, Mac, Windows) and vice versa. Additionally, many Git-based\r\n",
      "           tools simply assume path names to be UTF-8 and will fail to display\r\n",
      "           other encodings correctly.\r\n",
      "\r\n",
      "       +\bo   Commit log messages are typically encoded in UTF-8, but other\r\n",
      "           extended ASCII encodings are also supported. This includes\r\n",
      "           ISO-8859-x, CP125x and many others, but _\bn_\bo_\bt UTF-16/32, EBCDIC and\r\n",
      "           CJK multi-byte encodings (GBK, Shift-JIS, Big5, EUC-x, CP9xx etc.).\r\n",
      "\r\n",
      "       Although we encourage that the commit log messages are encoded in\r\n",
      "       UTF-8, both the core and Git Porcelain are designed not to force UTF-8\r\n",
      "       on projects. If all participants of a particular project find it more\r\n",
      "       convenient to use legacy encodings, Git does not forbid it. However,\r\n",
      "       there are a few things to keep in mind.\r\n",
      "\r\n",
      "        1. _\bg_\bi_\bt _\bc_\bo_\bm_\bm_\bi_\bt and _\bg_\bi_\bt _\bc_\bo_\bm_\bm_\bi_\bt_\b-_\bt_\br_\be_\be issues a warning if the commit log\r\n",
      "           message given to it does not look like a valid UTF-8 string, unless\r\n",
      "           you explicitly say your project uses a legacy encoding. The way to\r\n",
      "           say this is to have i18n.commitencoding in .\b.g\bgi\bit\bt/\b/c\bco\bon\bnf\bfi\big\bg file, like\r\n",
      "           this:\r\n",
      "\r\n",
      "               [i18n]\r\n",
      "                       commitEncoding = ISO-8859-1\r\n",
      "\r\n",
      "           Commit objects created with the above setting record the value of\r\n",
      "           i\bi1\b18\b8n\bn.\b.c\bco\bom\bmm\bmi\bit\btE\bEn\bnc\bco\bod\bdi\bin\bng\bg in its e\ben\bnc\bco\bod\bdi\bin\bng\bg header. This is to help other\r\n",
      "           people who look at them later. Lack of this header implies that the\r\n",
      "           commit log message is encoded in UTF-8.\r\n",
      "\r\n",
      "        2. _\bg_\bi_\bt _\bl_\bo_\bg, _\bg_\bi_\bt _\bs_\bh_\bo_\bw, _\bg_\bi_\bt _\bb_\bl_\ba_\bm_\be and friends look at the e\ben\bnc\bco\bod\bdi\bin\bng\bg\r\n",
      "           header of a commit object, and try to re-code the log message into\r\n",
      "           UTF-8 unless otherwise specified. You can specify the desired\r\n",
      "           output encoding with i\bi1\b18\b8n\bn.\b.l\blo\bog\bgO\bOu\but\btp\bpu\but\btE\bEn\bnc\bco\bod\bdi\bin\bng\bg in .\b.g\bgi\bit\bt/\b/c\bco\bon\bnf\bfi\big\bg file,\r\n",
      "           like this:\r\n",
      "\r\n",
      "               [i18n]\r\n",
      "                       logOutputEncoding = ISO-8859-1\r\n",
      "\r\n",
      "           If you do not have this configuration variable, the value of\r\n",
      "           i\bi1\b18\b8n\bn.\b.c\bco\bom\bmm\bmi\bit\btE\bEn\bnc\bco\bod\bdi\bin\bng\bg is used instead.\r\n",
      "\r\n",
      "       Note that we deliberately chose not to re-code the commit log message\r\n",
      "       when a commit is made to force UTF-8 at the commit object level,\r\n",
      "       because re-coding to UTF-8 is not necessarily a reversible operation.\r\n",
      "\r\n",
      "E\bEN\bNV\bVI\bIR\bRO\bON\bNM\bME\bEN\bNT\bT A\bAN\bND\bD C\bCO\bON\bNF\bFI\bIG\bGU\bUR\bRA\bAT\bTI\bIO\bON\bN V\bVA\bAR\bRI\bIA\bAB\bBL\bLE\bES\bS\r\n",
      "       The editor used to edit the commit log message will be chosen from the\r\n",
      "       G\bGI\bIT\bT_\b_E\bED\bDI\bIT\bTO\bOR\bR environment variable, the core.editor configuration\r\n",
      "       variable, the V\bVI\bIS\bSU\bUA\bAL\bL environment variable, or the E\bED\bDI\bIT\bTO\bOR\bR environment\r\n",
      "       variable (in that order). See g\bgi\bit\bt-\b-v\bva\bar\br(1) for details.\r\n",
      "\r\n",
      "H\bHO\bOO\bOK\bKS\bS\r\n",
      "       This command can run c\bco\bom\bmm\bmi\bit\bt-\b-m\bms\bsg\bg, p\bpr\bre\bep\bpa\bar\bre\be-\b-c\bco\bom\bmm\bmi\bit\bt-\b-m\bms\bsg\bg, p\bpr\bre\be-\b-c\bco\bom\bmm\bmi\bit\bt,\r\n",
      "       p\bpo\bos\bst\bt-\b-c\bco\bom\bmm\bmi\bit\bt and p\bpo\bos\bst\bt-\b-r\bre\bew\bwr\bri\bit\bte\be hooks. See g\bgi\bit\bth\bho\boo\bok\bks\bs(5) for more\r\n",
      "       information.\r\n",
      "\r\n",
      "F\bFI\bIL\bLE\bES\bS\r\n",
      "       $\b$G\bGI\bIT\bT_\b_D\bDI\bIR\bR/\b/C\bCO\bOM\bMM\bMI\bIT\bT_\b_E\bED\bDI\bIT\bTM\bMS\bSG\bG\r\n",
      "           This file contains the commit message of a commit in progress. If\r\n",
      "           g\bgi\bit\bt c\bco\bom\bmm\bmi\bit\bt exits due to an error before creating a commit, any\r\n",
      "           commit message that has been provided by the user (e.g., in an\r\n",
      "           editor session) will be available in this file, but will be\r\n",
      "           overwritten by the next invocation of g\bgi\bit\bt c\bco\bom\bmm\bmi\bit\bt.\r\n",
      "\r\n",
      "S\bSE\bEE\bE A\bAL\bLS\bSO\bO\r\n",
      "       g\bgi\bit\bt-\b-a\bad\bdd\bd(1), g\bgi\bit\bt-\b-r\brm\bm(1), g\bgi\bit\bt-\b-m\bmv\bv(1), g\bgi\bit\bt-\b-m\bme\ber\brg\bge\be(1), g\bgi\bit\bt-\b-c\bco\bom\bmm\bmi\bit\bt-\b-t\btr\bre\bee\be(1)\r\n",
      "\r\n",
      "G\bGI\bIT\bT\r\n",
      "       Part of the g\bgi\bit\bt(1) suite\r\n",
      "\r\n",
      "\r\n",
      "\r\n",
      "Git 2.17.1                        05/29/2018                     GIT-COMMIT(1)\r\n"
     ]
    }
   ],
   "source": [
    "! git help commit"
   ]
  },
  {
   "cell_type": "code",
   "execution_count": 4,
   "metadata": {},
   "outputs": [
    {
     "name": "stdout",
     "output_type": "stream",
     "text": [
      "[master 561ed6c] testing commit\r\n",
      " 1 file changed, 293 insertions(+), 164 deletions(-)\r\n"
     ]
    }
   ],
   "source": [
    "! git commit Lab1-git.ipynb -m \"testing commit\""
   ]
  },
  {
   "cell_type": "code",
   "execution_count": 5,
   "metadata": {},
   "outputs": [
    {
     "name": "stdout",
     "output_type": "stream",
     "text": [
      "On branch master\r\n",
      "Your branch is ahead of 'origin/master' by 1 commit.\r\n",
      "  (use \"git push\" to publish your local commits)\r\n",
      "\r\n",
      "Changes to be committed:\r\n",
      "  (use \"git reset HEAD <file>...\" to unstage)\r\n",
      "\r\n",
      "\t\u001b[32mmodified:   Lab1-pythonpandas.ipynb\u001b[m\r\n",
      "\t\u001b[32mmodified:   hw0.ipynb\u001b[m\r\n",
      "\r\n",
      "Changes not staged for commit:\r\n",
      "  (use \"git add <file>...\" to update what will be committed)\r\n",
      "  (use \"git checkout -- <file>...\" to discard changes in working directory)\r\n",
      "\r\n",
      "\t\u001b[31mmodified:   Lab1-git.ipynb\u001b[m\r\n",
      "\r\n"
     ]
    }
   ],
   "source": [
    "! git status"
   ]
  },
  {
   "cell_type": "code",
   "execution_count": 6,
   "metadata": {},
   "outputs": [
    {
     "name": "stdout",
     "output_type": "stream",
     "text": [
      "[master 401540b] testing commit 2\r\n",
      " 3 files changed, 618 insertions(+), 227 deletions(-)\r\n"
     ]
    }
   ],
   "source": [
    "! git commit -a -m \"testing commit 2\""
   ]
  },
  {
   "cell_type": "code",
   "execution_count": 7,
   "metadata": {},
   "outputs": [
    {
     "name": "stdout",
     "output_type": "stream",
     "text": [
      "On branch master\r\n",
      "Your branch is ahead of 'origin/master' by 2 commits.\r\n",
      "  (use \"git push\" to publish your local commits)\r\n",
      "\r\n",
      "nothing to commit, working tree clean\r\n"
     ]
    }
   ],
   "source": [
    "! git status"
   ]
  },
  {
   "cell_type": "code",
   "execution_count": 8,
   "metadata": {},
   "outputs": [
    {
     "name": "stdout",
     "output_type": "stream",
     "text": [
      "GIT-PUSH(1)                       Git Manual                       GIT-PUSH(1)\r\n",
      "\r\n",
      "\r\n",
      "\r\n",
      "N\bNA\bAM\bME\bE\r\n",
      "       git-push - Update remote refs along with associated objects\r\n",
      "\r\n",
      "S\bSY\bYN\bNO\bOP\bPS\bSI\bIS\bS\r\n",
      "       _\bg_\bi_\bt _\bp_\bu_\bs_\bh [--all | --mirror | --tags] [--follow-tags] [--atomic] [-n | --dry-run] [--receive-pack=<git-receive-pack>]\r\n",
      "                  [--repo=<repository>] [-f | --force] [-d | --delete] [--prune] [-v | --verbose]\r\n",
      "                  [-u | --set-upstream] [--push-option=<string>]\r\n",
      "                  [--[no-]signed|--signed=(true|false|if-asked)]\r\n",
      "                  [--force-with-lease[=<refname>[:<expect>]]]\r\n",
      "                  [--no-verify] [<repository> [<refspec>...]]\r\n",
      "\r\n",
      "\r\n",
      "D\bDE\bES\bSC\bCR\bRI\bIP\bPT\bTI\bIO\bON\bN\r\n",
      "       Updates remote refs using local refs, while sending objects necessary\r\n",
      "       to complete the given refs.\r\n",
      "\r\n",
      "       You can make interesting things happen to a repository every time you\r\n",
      "       push into it, by setting up _\bh_\bo_\bo_\bk_\bs there. See documentation for g\bgi\bit\bt-\b-\r\n",
      "       r\bre\bec\bce\bei\biv\bve\be-\b-p\bpa\bac\bck\bk(1).\r\n",
      "\r\n",
      "       When the command line does not specify where to push with the\r\n",
      "       <\b<r\bre\bep\bpo\bos\bsi\bit\bto\bor\bry\by>\b> argument, b\bbr\bra\ban\bnc\bch\bh.\b.*\b*.\b.r\bre\bem\bmo\bot\bte\be configuration for the current\r\n",
      "       branch is consulted to determine where to push. If the configuration is\r\n",
      "       missing, it defaults to _\bo_\br_\bi_\bg_\bi_\bn.\r\n",
      "\r\n",
      "       When the command line does not specify what to push with <\b<r\bre\bef\bfs\bsp\bpe\bec\bc>\b>.\b..\b..\b.\r\n",
      "       arguments or -\b--\b-a\bal\bll\bl, -\b--\b-m\bmi\bir\brr\bro\bor\br, -\b--\b-t\bta\bag\bgs\bs options, the command finds the\r\n",
      "       default <\b<r\bre\bef\bfs\bsp\bpe\bec\bc>\b> by consulting r\bre\bem\bmo\bot\bte\be.\b.*\b*.\b.p\bpu\bus\bsh\bh configuration, and if it\r\n",
      "       is not found, honors p\bpu\bus\bsh\bh.\b.d\bde\bef\bfa\bau\bul\blt\bt configuration to decide what to push\r\n",
      "       (See g\bgi\bit\bt-\b-c\bco\bon\bnf\bfi\big\bg(1) for the meaning of p\bpu\bus\bsh\bh.\b.d\bde\bef\bfa\bau\bul\blt\bt).\r\n",
      "\r\n",
      "       When neither the command-line nor the configuration specify what to\r\n",
      "       push, the default behavior is used, which corresponds to the s\bsi\bim\bmp\bpl\ble\be\r\n",
      "       value for p\bpu\bus\bsh\bh.\b.d\bde\bef\bfa\bau\bul\blt\bt: the current branch is pushed to the\r\n",
      "       corresponding upstream branch, but as a safety measure, the push is\r\n",
      "       aborted if the upstream branch does not have the same name as the local\r\n",
      "       one.\r\n",
      "\r\n",
      "O\bOP\bPT\bTI\bIO\bON\bNS\bS\r\n",
      "       <repository>\r\n",
      "           The \"remote\" repository that is destination of a push operation.\r\n",
      "           This parameter can be either a URL (see the section GIT URLS below)\r\n",
      "           or the name of a remote (see the section REMOTES below).\r\n",
      "\r\n",
      "       <refspec>...\r\n",
      "           Specify what destination ref to update with what source object. The\r\n",
      "           format of a <refspec> parameter is an optional plus +\b+, followed by\r\n",
      "           the source object <src>, followed by a colon :\b:, followed by the\r\n",
      "           destination ref <dst>.\r\n",
      "\r\n",
      "           The <src> is often the name of the branch you would want to push,\r\n",
      "           but it can be any arbitrary \"SHA-1 expression\", such as m\bma\bas\bst\bte\ber\br~\b~4\b4 or\r\n",
      "           H\bHE\bEA\bAD\bD (see g\bgi\bit\btr\bre\bev\bvi\bis\bsi\bio\bon\bns\bs(7)).\r\n",
      "\r\n",
      "           The <dst> tells which ref on the remote side is updated with this\r\n",
      "           push. Arbitrary expressions cannot be used here, an actual ref must\r\n",
      "           be named. If g\bgi\bit\bt p\bpu\bus\bsh\bh [\b[<\b<r\bre\bep\bpo\bos\bsi\bit\bto\bor\bry\by>\b>]\b] without any <\b<r\bre\bef\bfs\bsp\bpe\bec\bc>\b> argument\r\n",
      "           is set to update some ref at the destination with <\b<s\bsr\brc\bc>\b> with\r\n",
      "           r\bre\bem\bmo\bot\bte\be.\b.<\b<r\bre\bep\bpo\bos\bsi\bit\bto\bor\bry\by>\b>.\b.p\bpu\bus\bsh\bh configuration variable, :\b:<\b<d\bds\bst\bt>\b> part can be\r\n",
      "           omitted--such a push will update a ref that <\b<s\bsr\brc\bc>\b> normally updates\r\n",
      "           without any <\b<r\bre\bef\bfs\bsp\bpe\bec\bc>\b> on the command line. Otherwise, missing\r\n",
      "           :\b:<\b<d\bds\bst\bt>\b> means to update the same ref as the <\b<s\bsr\brc\bc>\b>.\r\n",
      "\r\n",
      "           The object referenced by <src> is used to update the <dst>\r\n",
      "           reference on the remote side. By default this is only allowed if\r\n",
      "           <dst> is not a tag (annotated or lightweight), and then only if it\r\n",
      "           can fast-forward <dst>. By having the optional leading +\b+, you can\r\n",
      "           tell Git to update the <dst> ref even if it is not allowed by\r\n",
      "           default (e.g., it is not a fast-forward.) This does n\bno\bot\bt attempt to\r\n",
      "           merge <src> into <dst>. See EXAMPLES below for details.\r\n",
      "\r\n",
      "           t\bta\bag\bg <\b<t\bta\bag\bg>\b> means the same as r\bre\bef\bfs\bs/\b/t\bta\bag\bgs\bs/\b/<\b<t\bta\bag\bg>\b>:\b:r\bre\bef\bfs\bs/\b/t\bta\bag\bgs\bs/\b/<\b<t\bta\bag\bg>\b>.\r\n",
      "\r\n",
      "           Pushing an empty <src> allows you to delete the <dst> ref from the\r\n",
      "           remote repository.\r\n",
      "\r\n",
      "           The special refspec :\b: (or +\b+:\b: to allow non-fast-forward updates)\r\n",
      "           directs Git to push \"matching\" branches: for every branch that\r\n",
      "           exists on the local side, the remote side is updated if a branch of\r\n",
      "           the same name already exists on the remote side.\r\n",
      "\r\n",
      "       --all\r\n",
      "           Push all branches (i.e. refs under r\bre\bef\bfs\bs/\b/h\bhe\bea\bad\bds\bs/\b/); cannot be used\r\n",
      "           with other <refspec>.\r\n",
      "\r\n",
      "       --prune\r\n",
      "           Remove remote branches that don't have a local counterpart. For\r\n",
      "           example a remote branch t\btm\bmp\bp will be removed if a local branch with\r\n",
      "           the same name doesn't exist any more. This also respects refspecs,\r\n",
      "           e.g.  g\bgi\bit\bt p\bpu\bus\bsh\bh -\b--\b-p\bpr\bru\bun\bne\be r\bre\bem\bmo\bot\bte\be r\bre\bef\bfs\bs/\b/h\bhe\bea\bad\bds\bs/\b/*\b*:\b:r\bre\bef\bfs\bs/\b/t\btm\bmp\bp/\b/*\b* would make\r\n",
      "           sure that remote r\bre\bef\bfs\bs/\b/t\btm\bmp\bp/\b/f\bfo\boo\bo will be removed if r\bre\bef\bfs\bs/\b/h\bhe\bea\bad\bds\bs/\b/f\bfo\boo\bo\r\n",
      "           doesn't exist.\r\n",
      "\r\n",
      "       --mirror\r\n",
      "           Instead of naming each ref to push, specifies that all refs under\r\n",
      "           r\bre\bef\bfs\bs/\b/ (which includes but is not limited to r\bre\bef\bfs\bs/\b/h\bhe\bea\bad\bds\bs/\b/,\r\n",
      "           r\bre\bef\bfs\bs/\b/r\bre\bem\bmo\bot\bte\bes\bs/\b/, and r\bre\bef\bfs\bs/\b/t\bta\bag\bgs\bs/\b/) be mirrored to the remote\r\n",
      "           repository. Newly created local refs will be pushed to the remote\r\n",
      "           end, locally updated refs will be force updated on the remote end,\r\n",
      "           and deleted refs will be removed from the remote end. This is the\r\n",
      "           default if the configuration option r\bre\bem\bmo\bot\bte\be.\b.<\b<r\bre\bem\bmo\bot\bte\be>\b>.\b.m\bmi\bir\brr\bro\bor\br is set.\r\n",
      "\r\n",
      "       -n, --dry-run\r\n",
      "           Do everything except actually send the updates.\r\n",
      "\r\n",
      "       --porcelain\r\n",
      "           Produce machine-readable output. The output status line for each\r\n",
      "           ref will be tab-separated and sent to stdout instead of stderr. The\r\n",
      "           full symbolic names of the refs will be given.\r\n",
      "\r\n",
      "       --delete\r\n",
      "           All listed refs are deleted from the remote repository. This is the\r\n",
      "           same as prefixing all refs with a colon.\r\n",
      "\r\n",
      "       --tags\r\n",
      "           All refs under r\bre\bef\bfs\bs/\b/t\bta\bag\bgs\bs are pushed, in addition to refspecs\r\n",
      "           explicitly listed on the command line.\r\n",
      "\r\n",
      "       --follow-tags\r\n",
      "           Push all the refs that would be pushed without this option, and\r\n",
      "           also push annotated tags in r\bre\bef\bfs\bs/\b/t\bta\bag\bgs\bs that are missing from the\r\n",
      "           remote but are pointing at commit-ish that are reachable from the\r\n",
      "           refs being pushed. This can also be specified with configuration\r\n",
      "           variable p\bpu\bus\bsh\bh.\b.f\bfo\bol\bll\blo\bow\bwT\bTa\bag\bgs\bs. For more information, see p\bpu\bus\bsh\bh.\b.f\bfo\bol\bll\blo\bow\bwT\bTa\bag\bgs\bs\r\n",
      "           in g\bgi\bit\bt-\b-c\bco\bon\bnf\bfi\big\bg(1).\r\n",
      "\r\n",
      "       --[no-]signed, --signed=(true|false|if-asked)\r\n",
      "           GPG-sign the push request to update refs on the receiving side, to\r\n",
      "           allow it to be checked by the hooks and/or be logged. If f\bfa\bal\bls\bse\be or\r\n",
      "           -\b--\b-n\bno\bo-\b-s\bsi\big\bgn\bne\bed\bd, no signing will be attempted. If t\btr\bru\bue\be or -\b--\b-s\bsi\big\bgn\bne\bed\bd, the\r\n",
      "           push will fail if the server does not support signed pushes. If set\r\n",
      "           to i\bif\bf-\b-a\bas\bsk\bke\bed\bd, sign if and only if the server supports signed pushes.\r\n",
      "           The push will also fail if the actual call to g\bgp\bpg\bg -\b--\b-s\bsi\big\bgn\bn fails. See\r\n",
      "           g\bgi\bit\bt-\b-r\bre\bec\bce\bei\biv\bve\be-\b-p\bpa\bac\bck\bk(1) for the details on the receiving end.\r\n",
      "\r\n",
      "       --[no-]atomic\r\n",
      "           Use an atomic transaction on the remote side if available. Either\r\n",
      "           all refs are updated, or on error, no refs are updated. If the\r\n",
      "           server does not support atomic pushes the push will fail.\r\n",
      "\r\n",
      "       -o <option>, --push-option=<option>\r\n",
      "           Transmit the given string to the server, which passes them to the\r\n",
      "           pre-receive as well as the post-receive hook. The given string must\r\n",
      "           not contain a NUL or LF character. When multiple\r\n",
      "           -\b--\b-p\bpu\bus\bsh\bh-\b-o\bop\bpt\bti\bio\bon\bn=\b=<\b<o\bop\bpt\bti\bio\bon\bn>\b> are given, they are all sent to the other\r\n",
      "           side in the order listed on the command line. When no\r\n",
      "           -\b--\b-p\bpu\bus\bsh\bh-\b-o\bop\bpt\bti\bio\bon\bn=\b=<\b<o\bop\bpt\bti\bio\bon\bn>\b> is given from the command line, the values\r\n",
      "           of configuration variable p\bpu\bus\bsh\bh.\b.p\bpu\bus\bsh\bhO\bOp\bpt\bti\bio\bon\bn are used instead.\r\n",
      "\r\n",
      "       --receive-pack=<git-receive-pack>, --exec=<git-receive-pack>\r\n",
      "           Path to the _\bg_\bi_\bt_\b-_\br_\be_\bc_\be_\bi_\bv_\be_\b-_\bp_\ba_\bc_\bk program on the remote end. Sometimes\r\n",
      "           useful when pushing to a remote repository over ssh, and you do not\r\n",
      "           have the program in a directory on the default $PATH.\r\n",
      "\r\n",
      "       --[no-]force-with-lease, --force-with-lease=<refname>,\r\n",
      "       --force-with-lease=<refname>:<expect>\r\n",
      "           Usually, \"git push\" refuses to update a remote ref that is not an\r\n",
      "           ancestor of the local ref used to overwrite it.\r\n",
      "\r\n",
      "           This option overrides this restriction if the current value of the\r\n",
      "           remote ref is the expected value. \"git push\" fails otherwise.\r\n",
      "\r\n",
      "           Imagine that you have to rebase what you have already published.\r\n",
      "           You will have to bypass the \"must fast-forward\" rule in order to\r\n",
      "           replace the history you originally published with the rebased\r\n",
      "           history. If somebody else built on top of your original history\r\n",
      "           while you are rebasing, the tip of the branch at the remote may\r\n",
      "           advance with her commit, and blindly pushing with -\b--\b-f\bfo\bor\brc\bce\be will lose\r\n",
      "           her work.\r\n",
      "\r\n",
      "           This option allows you to say that you expect the history you are\r\n",
      "           updating is what you rebased and want to replace. If the remote ref\r\n",
      "           still points at the commit you specified, you can be sure that no\r\n",
      "           other people did anything to the ref. It is like taking a \"lease\"\r\n",
      "           on the ref without explicitly locking it, and the remote ref is\r\n",
      "           updated only if the \"lease\" is still valid.\r\n",
      "\r\n",
      "           -\b--\b-f\bfo\bor\brc\bce\be-\b-w\bwi\bit\bth\bh-\b-l\ble\bea\bas\bse\be alone, without specifying the details, will\r\n",
      "           protect all remote refs that are going to be updated by requiring\r\n",
      "           their current value to be the same as the remote-tracking branch we\r\n",
      "           have for them.\r\n",
      "\r\n",
      "           -\b--\b-f\bfo\bor\brc\bce\be-\b-w\bwi\bit\bth\bh-\b-l\ble\bea\bas\bse\be=\b=<\b<r\bre\bef\bfn\bna\bam\bme\be>\b>, without specifying the expected\r\n",
      "           value, will protect the named ref (alone), if it is going to be\r\n",
      "           updated, by requiring its current value to be the same as the\r\n",
      "           remote-tracking branch we have for it.\r\n",
      "\r\n",
      "           -\b--\b-f\bfo\bor\brc\bce\be-\b-w\bwi\bit\bth\bh-\b-l\ble\bea\bas\bse\be=\b=<\b<r\bre\bef\bfn\bna\bam\bme\be>\b>:\b:<\b<e\bex\bxp\bpe\bec\bct\bt>\b> will protect the named ref\r\n",
      "           (alone), if it is going to be updated, by requiring its current\r\n",
      "           value to be the same as the specified value <\b<e\bex\bxp\bpe\bec\bct\bt>\b> (which is\r\n",
      "           allowed to be different from the remote-tracking branch we have for\r\n",
      "           the refname, or we do not even have to have such a remote-tracking\r\n",
      "           branch when this form is used). If <\b<e\bex\bxp\bpe\bec\bct\bt>\b> is the empty string,\r\n",
      "           then the named ref must not already exist.\r\n",
      "\r\n",
      "           Note that all forms other than\r\n",
      "           -\b--\b-f\bfo\bor\brc\bce\be-\b-w\bwi\bit\bth\bh-\b-l\ble\bea\bas\bse\be=\b=<\b<r\bre\bef\bfn\bna\bam\bme\be>\b>:\b:<\b<e\bex\bxp\bpe\bec\bct\bt>\b> that specifies the expected\r\n",
      "           current value of the ref explicitly are still experimental and\r\n",
      "           their semantics may change as we gain experience with this feature.\r\n",
      "\r\n",
      "           \"--no-force-with-lease\" will cancel all the previous\r\n",
      "           --force-with-lease on the command line.\r\n",
      "\r\n",
      "           A general note on safety: supplying this option without an expected\r\n",
      "           value, i.e. as -\b--\b-f\bfo\bor\brc\bce\be-\b-w\bwi\bit\bth\bh-\b-l\ble\bea\bas\bse\be or -\b--\b-f\bfo\bor\brc\bce\be-\b-w\bwi\bit\bth\bh-\b-l\ble\bea\bas\bse\be=\b=<\b<r\bre\bef\bfn\bna\bam\bme\be>\b>\r\n",
      "           interacts very badly with anything that implicitly runs g\bgi\bit\bt f\bfe\bet\btc\bch\bh\r\n",
      "           on the remote to be pushed to in the background, e.g.  g\bgi\bit\bt f\bfe\bet\btc\bch\bh\r\n",
      "           o\bor\bri\big\bgi\bin\bn on your repository in a cronjob.\r\n",
      "\r\n",
      "           The protection it offers over -\b--\b-f\bfo\bor\brc\bce\be is ensuring that subsequent\r\n",
      "           changes your work wasn't based on aren't clobbered, but this is\r\n",
      "           trivially defeated if some background process is updating refs in\r\n",
      "           the background. We don't have anything except the remote tracking\r\n",
      "           info to go by as a heuristic for refs you're expected to have seen\r\n",
      "           & are willing to clobber.\r\n",
      "\r\n",
      "           If your editor or some other system is running g\bgi\bit\bt f\bfe\bet\btc\bch\bh in the\r\n",
      "           background for you a way to mitigate this is to simply set up\r\n",
      "           another remote:\r\n",
      "\r\n",
      "               git remote add origin-push $(git config remote.origin.url)\r\n",
      "               git fetch origin-push\r\n",
      "\r\n",
      "           Now when the background process runs g\bgi\bit\bt f\bfe\bet\btc\bch\bh o\bor\bri\big\bgi\bin\bn the\r\n",
      "           references on o\bor\bri\big\bgi\bin\bn-\b-p\bpu\bus\bsh\bh won't be updated, and thus commands like:\r\n",
      "\r\n",
      "               git push --force-with-lease origin-push\r\n",
      "\r\n",
      "           Will fail unless you manually run g\bgi\bit\bt f\bfe\bet\btc\bch\bh o\bor\bri\big\bgi\bin\bn-\b-p\bpu\bus\bsh\bh. This\r",
      "\r\n",
      "           method is of course entirely defeated by something that runs g\bgi\bit\bt\r\n",
      "           f\bfe\bet\btc\bch\bh -\b--\b-a\bal\bll\bl, in that case you'd need to either disable it or do\r\n",
      "           something more tedious like:\r\n",
      "\r\n",
      "               git fetch              # update 'master' from remote\r\n",
      "               git tag base master    # mark our base point\r\n",
      "               git rebase -i master   # rewrite some commits\r\n",
      "               git push --force-with-lease=master:base master:master\r\n",
      "\r\n",
      "           I.e. create a b\bba\bas\bse\be tag for versions of the upstream code that\r\n",
      "           you've seen and are willing to overwrite, then rewrite history, and\r\n",
      "           finally force push changes to m\bma\bas\bst\bte\ber\br if the remote version is still\r\n",
      "           at b\bba\bas\bse\be, regardless of what your local r\bre\bem\bmo\bot\bte\bes\bs/\b/o\bor\bri\big\bgi\bin\bn/\b/m\bma\bas\bst\bte\ber\br has\r\n",
      "           been updated to in the background.\r\n",
      "\r\n",
      "       -f, --force\r\n",
      "           Usually, the command refuses to update a remote ref that is not an\r\n",
      "           ancestor of the local ref used to overwrite it. Also, when\r\n",
      "           -\b--\b-f\bfo\bor\brc\bce\be-\b-w\bwi\bit\bth\bh-\b-l\ble\bea\bas\bse\be option is used, the command refuses to update a\r\n",
      "           remote ref whose current value does not match what is expected.\r\n",
      "\r\n",
      "           This flag disables these checks, and can cause the remote\r\n",
      "           repository to lose commits; use it with care.\r\n",
      "\r\n",
      "           Note that -\b--\b-f\bfo\bor\brc\bce\be applies to all the refs that are pushed, hence\r\n",
      "           using it with p\bpu\bus\bsh\bh.\b.d\bde\bef\bfa\bau\bul\blt\bt set to m\bma\bat\btc\bch\bhi\bin\bng\bg or with multiple push\r\n",
      "           destinations configured with r\bre\bem\bmo\bot\bte\be.\b.*\b*.\b.p\bpu\bus\bsh\bh may overwrite refs other\r\n",
      "           than the current branch (including local refs that are strictly\r\n",
      "           behind their remote counterpart). To force a push to only one\r\n",
      "           branch, use a +\b+ in front of the refspec to push (e.g g\bgi\bit\bt p\bpu\bus\bsh\bh\r\n",
      "           o\bor\bri\big\bgi\bin\bn +\b+m\bma\bas\bst\bte\ber\br to force a push to the m\bma\bas\bst\bte\ber\br branch). See the\r\n",
      "           <\b<r\bre\bef\bfs\bsp\bpe\bec\bc>\b>.\b..\b..\b.  section above for details.\r\n",
      "\r\n",
      "       --repo=<repository>\r\n",
      "           This option is equivalent to the <repository> argument. If both are\r\n",
      "           specified, the command-line argument takes precedence.\r\n",
      "\r\n",
      "       -u, --set-upstream\r\n",
      "           For every branch that is up to date or successfully pushed, add\r\n",
      "           upstream (tracking) reference, used by argument-less g\bgi\bit\bt-\b-p\bpu\bul\bll\bl(1)\r\n",
      "           and other commands. For more information, see b\bbr\bra\ban\bnc\bch\bh.\b.<\b<n\bna\bam\bme\be>\b>.\b.m\bme\ber\brg\bge\be\r\n",
      "           in g\bgi\bit\bt-\b-c\bco\bon\bnf\bfi\big\bg(1).\r\n",
      "\r\n",
      "       --[no-]thin\r\n",
      "           These options are passed to g\bgi\bit\bt-\b-s\bse\ben\bnd\bd-\b-p\bpa\bac\bck\bk(1). A thin transfer\r\n",
      "           significantly reduces the amount of sent data when the sender and\r\n",
      "           receiver share many of the same objects in common. The default is\r\n",
      "           --thin.\r\n",
      "\r\n",
      "       -q, --quiet\r\n",
      "           Suppress all output, including the listing of updated refs, unless\r\n",
      "           an error occurs. Progress is not reported to the standard error\r\n",
      "           stream.\r\n",
      "\r\n",
      "       -v, --verbose\r\n",
      "           Run verbosely.\r\n",
      "\r\n",
      "       --progress\r\n",
      "           Progress status is reported on the standard error stream by default\r",
      "\r\n",
      "           when it is attached to a terminal, unless -q is specified. This\r\n",
      "           flag forces progress status even if the standard error stream is\r\n",
      "           not directed to a terminal.\r\n",
      "\r\n",
      "       --no-recurse-submodules, --recurse-submodules=check|on-demand|only|no\r\n",
      "           May be used to make sure all submodule commits used by the\r\n",
      "           revisions to be pushed are available on a remote-tracking branch.\r\n",
      "           If _\bc_\bh_\be_\bc_\bk is used Git will verify that all submodule commits that\r\n",
      "           changed in the revisions to be pushed are available on at least one\r\n",
      "           remote of the submodule. If any commits are missing the push will\r\n",
      "           be aborted and exit with non-zero status. If _\bo_\bn_\b-_\bd_\be_\bm_\ba_\bn_\bd is used all\r\n",
      "           submodules that changed in the revisions to be pushed will be\r\n",
      "           pushed. If on-demand was not able to push all necessary revisions\r\n",
      "           it will also be aborted and exit with non-zero status. If _\bo_\bn_\bl_\by is\r\n",
      "           used all submodules will be recursively pushed while the\r\n",
      "           superproject is left unpushed. A value of _\bn_\bo or using\r\n",
      "           -\b--\b-n\bno\bo-\b-r\bre\bec\bcu\bur\brs\bse\be-\b-s\bsu\bub\bbm\bmo\bod\bdu\bul\ble\bes\bs can be used to override the\r\n",
      "           push.recurseSubmodules configuration variable when no submodule\r\n",
      "           recursion is required.\r\n",
      "\r\n",
      "       --[no-]verify\r\n",
      "           Toggle the pre-push hook (see g\bgi\bit\bth\bho\boo\bok\bks\bs(5)). The default is\r\n",
      "           --verify, giving the hook a chance to prevent the push. With\r\n",
      "           --no-verify, the hook is bypassed completely.\r\n",
      "\r\n",
      "       -4, --ipv4\r\n",
      "           Use IPv4 addresses only, ignoring IPv6 addresses.\r\n",
      "\r\n",
      "       -6, --ipv6\r\n",
      "           Use IPv6 addresses only, ignoring IPv4 addresses.\r\n",
      "\r\n",
      "G\bGI\bIT\bT U\bUR\bRL\bLS\bS\r\n",
      "       In general, URLs contain information about the transport protocol, the\r\n",
      "       address of the remote server, and the path to the repository. Depending\r\n",
      "       on the transport protocol, some of this information may be absent.\r\n",
      "\r\n",
      "       Git supports ssh, git, http, and https protocols (in addition, ftp, and\r\n",
      "       ftps can be used for fetching, but this is inefficient and deprecated;\r\n",
      "       do not use it).\r\n",
      "\r\n",
      "       The native transport (i.e. git:// URL) does no authentication and\r\n",
      "       should be used with caution on unsecured networks.\r\n",
      "\r\n",
      "       The following syntaxes may be used with them:\r\n",
      "\r\n",
      "       +\bo   ssh://[user@]host.xz[:port]/path/to/repo.git/\r\n",
      "\r\n",
      "       +\bo   git://host.xz[:port]/path/to/repo.git/\r\n",
      "\r\n",
      "       +\bo   http[s]://host.xz[:port]/path/to/repo.git/\r\n",
      "\r\n",
      "       +\bo   ftp[s]://host.xz[:port]/path/to/repo.git/\r\n",
      "\r\n",
      "       An alternative scp-like syntax may also be used with the ssh protocol:\r\n",
      "\r\n",
      "       +\bo   [user@]host.xz:path/to/repo.git/\r\n",
      "\r\n",
      "       This syntax is only recognized if there are no slashes before the first\r\n",
      "       colon. This helps differentiate a local path that contains a colon. For\r\n",
      "       example the local path f\bfo\boo\bo:\b:b\bba\bar\br could be specified as an absolute path\r\n",
      "       or .\b./\b/f\bfo\boo\bo:\b:b\bba\bar\br to avoid being misinterpreted as an ssh url.\r\n",
      "\r\n",
      "       The ssh and git protocols additionally support ~username expansion:\r\n",
      "\r\n",
      "       +\bo   ssh://[user@]host.xz[:port]/~[user]/path/to/repo.git/\r\n",
      "\r\n",
      "       +\bo   git://host.xz[:port]/~[user]/path/to/repo.git/\r\n",
      "\r\n",
      "       +\bo   [user@]host.xz:/~[user]/path/to/repo.git/\r\n",
      "\r\n",
      "       For local repositories, also supported by Git natively, the following\r\n",
      "       syntaxes may be used:\r\n",
      "\r\n",
      "       +\bo   /path/to/repo.git/\r\n",
      "\r\n",
      "       +\bo   file:///path/to/repo.git/\r\n",
      "\r\n",
      "       These two syntaxes are mostly equivalent, except when cloning, when the\r\n",
      "       former implies --local option. See g\bgi\bit\bt-\b-c\bcl\blo\bon\bne\be(1) for details.\r\n",
      "\r\n",
      "       When Git doesn't know how to handle a certain transport protocol, it\r\n",
      "       attempts to use the _\br_\be_\bm_\bo_\bt_\be_\b-_\b<_\bt_\br_\ba_\bn_\bs_\bp_\bo_\br_\bt_\b> remote helper, if one exists. To\r\n",
      "       explicitly request a remote helper, the following syntax may be used:\r\n",
      "\r\n",
      "       +\bo   <transport>::<address>\r\n",
      "\r\n",
      "       where <address> may be a path, a server and path, or an arbitrary\r\n",
      "       URL-like string recognized by the specific remote helper being invoked.\r\n",
      "       See g\bgi\bit\btr\bre\bem\bmo\bot\bte\be-\b-h\bhe\bel\blp\bpe\ber\brs\bs(1) for details.\r\n",
      "\r\n",
      "       If there are a large number of similarly-named remote repositories and\r\n",
      "       you want to use a different format for them (such that the URLs you use\r\n",
      "       will be rewritten into URLs that work), you can create a configuration\r\n",
      "       section of the form:\r\n",
      "\r\n",
      "                   [url \"<actual url base>\"]\r\n",
      "                           insteadOf = <other url base>\r\n",
      "\r\n",
      "\r\n",
      "       For example, with this:\r\n",
      "\r\n",
      "                   [url \"git://git.host.xz/\"]\r\n",
      "                           insteadOf = host.xz:/path/to/\r\n",
      "                           insteadOf = work:\r\n",
      "\r\n",
      "\r\n",
      "       a URL like \"work:repo.git\" or like \"host.xz:/path/to/repo.git\" will be\r\n",
      "       rewritten in any context that takes a URL to be\r\n",
      "       \"git://git.host.xz/repo.git\".\r\n",
      "\r\n",
      "       If you want to rewrite URLs for push only, you can create a\r\n",
      "       configuration section of the form:\r\n",
      "\r\n",
      "                   [url \"<actual url base>\"]\r\n",
      "                           pushInsteadOf = <other url base>\r\n",
      "\r\n",
      "\r\n",
      "       For example, with this:\r\n",
      "\r\n",
      "                   [url \"ssh://example.org/\"]\r\n",
      "                           pushInsteadOf = git://example.org/\r\n",
      "\r\n",
      "\r\n",
      "       a URL like \"git://example.org/path/to/repo.git\" will be rewritten to\r\n",
      "       \"ssh://example.org/path/to/repo.git\" for pushes, but pulls will still\r\n",
      "       use the original URL.\r\n",
      "\r\n",
      "R\bRE\bEM\bMO\bOT\bTE\bES\bS\r\n",
      "       The name of one of the following can be used instead of a URL as\r\n",
      "       <\b<r\bre\bep\bpo\bos\bsi\bit\bto\bor\bry\by>\b> argument:\r\n",
      "\r\n",
      "       +\bo   a remote in the Git configuration file: $\b$G\bGI\bIT\bT_\b_D\bDI\bIR\bR/\b/c\bco\bon\bnf\bfi\big\bg,\r\n",
      "\r\n",
      "       +\bo   a file in the $\b$G\bGI\bIT\bT_\b_D\bDI\bIR\bR/\b/r\bre\bem\bmo\bot\bte\bes\bs directory, or\r\n",
      "\r\n",
      "       +\bo   a file in the $\b$G\bGI\bIT\bT_\b_D\bDI\bIR\bR/\b/b\bbr\bra\ban\bnc\bch\bhe\bes\bs directory.\r\n",
      "\r\n",
      "       All of these also allow you to omit the refspec from the command line\r\n",
      "       because they each contain a refspec which git will use by default.\r\n",
      "\r\n",
      "   N\bNa\bam\bme\bed\bd r\bre\bem\bmo\bot\bte\be i\bin\bn c\bco\bon\bnf\bfi\big\bgu\bur\bra\bat\bti\bio\bon\bn f\bfi\bil\ble\be\r\n",
      "       You can choose to provide the name of a remote which you had previously\r\n",
      "       configured using g\bgi\bit\bt-\b-r\bre\bem\bmo\bot\bte\be(1), g\bgi\bit\bt-\b-c\bco\bon\bnf\bfi\big\bg(1) or even by a manual edit\r\n",
      "       to the $\b$G\bGI\bIT\bT_\b_D\bDI\bIR\bR/\b/c\bco\bon\bnf\bfi\big\bg file. The URL of this remote will be used to\r\n",
      "       access the repository. The refspec of this remote will be used by\r\n",
      "       default when you do not provide a refspec on the command line. The\r\n",
      "       entry in the config file would appear like this:\r\n",
      "\r\n",
      "                   [remote \"<name>\"]\r\n",
      "                           url = <url>\r\n",
      "                           pushurl = <pushurl>\r\n",
      "                           push = <refspec>\r\n",
      "                           fetch = <refspec>\r\n",
      "\r\n",
      "\r\n",
      "       The <\b<p\bpu\bus\bsh\bhu\bur\brl\bl>\b> is used for pushes only. It is optional and defaults to\r\n",
      "       <\b<u\bur\brl\bl>\b>.\r\n",
      "\r\n",
      "   N\bNa\bam\bme\bed\bd f\bfi\bil\ble\be i\bin\bn $\b$G\bGI\bIT\bT_\b_D\bDI\bIR\bR/\b/r\bre\bem\bmo\bot\bte\bes\bs\r\n",
      "       You can choose to provide the name of a file in $\b$G\bGI\bIT\bT_\b_D\bDI\bIR\bR/\b/r\bre\bem\bmo\bot\bte\bes\bs. The\r\n",
      "       URL in this file will be used to access the repository. The refspec in\r\n",
      "       this file will be used as default when you do not provide a refspec on\r\n",
      "       the command line. This file should have the following format:\r\n",
      "\r\n",
      "                   URL: one of the above URL format\r\n",
      "                   Push: <refspec>\r\n",
      "                   Pull: <refspec>\r\n",
      "\r\n",
      "\r\n",
      "       P\bPu\bus\bsh\bh:\b: lines are used by _\bg_\bi_\bt _\bp_\bu_\bs_\bh and P\bPu\bul\bll\bl:\b: lines are used by _\bg_\bi_\bt _\bp_\bu_\bl_\bl\r\n",
      "       and _\bg_\bi_\bt _\bf_\be_\bt_\bc_\bh. Multiple P\bPu\bus\bsh\bh:\b: and P\bPu\bul\bll\bl:\b: lines may be specified for\r\n",
      "       additional branch mappings.\r\n",
      "\r\n",
      "   N\bNa\bam\bme\bed\bd f\bfi\bil\ble\be i\bin\bn $\b$G\bGI\bIT\bT_\b_D\bDI\bIR\bR/\b/b\bbr\bra\ban\bnc\bch\bhe\bes\bs\r\n",
      "       You can choose to provide the name of a file in $\b$G\bGI\bIT\bT_\b_D\bDI\bIR\bR/\b/b\bbr\bra\ban\bnc\bch\bhe\bes\bs. The\r\n",
      "       URL in this file will be used to access the repository. This file\r\n",
      "       should have the following format:\r\n",
      "\r\n",
      "                   <url>#<head>\r\n",
      "\r\n",
      "\r\n",
      "       <\b<u\bur\brl\bl>\b> is required; #\b#<\b<h\bhe\bea\bad\bd>\b> is optional.\r\n",
      "\r\n",
      "       Depending on the operation, git will use one of the following refspecs,\r\n",
      "       if you don't provide one on the command line. <\b<b\bbr\bra\ban\bnc\bch\bh>\b> is the name of\r\n",
      "       this file in $\b$G\bGI\bIT\bT_\b_D\bDI\bIR\bR/\b/b\bbr\bra\ban\bnc\bch\bhe\bes\bs and <\b<h\bhe\bea\bad\bd>\b> defaults to m\bma\bas\bst\bte\ber\br.\r\n",
      "\r\n",
      "       git fetch uses:\r\n",
      "\r\n",
      "                   refs/heads/<head>:refs/heads/<branch>\r\n",
      "\r\n",
      "\r\n",
      "       git push uses:\r\n",
      "\r\n",
      "                   HEAD:refs/heads/<head>\r\n",
      "\r\n",
      "\r\n",
      "O\bOU\bUT\bTP\bPU\bUT\bT\r\n",
      "       The output of \"git push\" depends on the transport method used; this\r\n",
      "       section describes the output when pushing over the Git protocol (either\r\n",
      "       locally or via ssh).\r\n",
      "\r\n",
      "       The status of the push is output in tabular form, with each line\r\n",
      "       representing the status of a single ref. Each line is of the form:\r\n",
      "\r\n",
      "            <flag> <summary> <from> -> <to> (<reason>)\r\n",
      "\r\n",
      "\r\n",
      "       If --porcelain is used, then each line of the output is of the form:\r\n",
      "\r\n",
      "            <flag> \\t <from>:<to> \\t <summary> (<reason>)\r\n",
      "\r\n",
      "\r\n",
      "       The status of up-to-date refs is shown only if --porcelain or --verbose\r\n",
      "       option is used.\r\n",
      "\r\n",
      "       flag\r\n",
      "           A single character indicating the status of the ref:\r\n",
      "\r\n",
      "           (space)\r\n",
      "               for a successfully pushed fast-forward;\r\n",
      "\r\n",
      "           +\b+\r\n",
      "               for a successful forced update;\r\n",
      "\r\n",
      "           -\b-\r\n",
      "               for a successfully deleted ref;\r\n",
      "\r\n",
      "           *\b*\r\n",
      "               for a successfully pushed new ref;\r\n",
      "\r\n",
      "           !\b!\r\n",
      "               for a ref that was rejected or failed to push; and\r\n",
      "\r\n",
      "           =\b=\r\n",
      "               for a ref that was up to date and did not need pushing.\r\n",
      "\r\n",
      "       summary\r\n",
      "           For a successfully pushed ref, the summary shows the old and new\r\n",
      "           values of the ref in a form suitable for using as an argument to\r\n",
      "           g\bgi\bit\bt l\blo\bog\bg (this is <\b<o\bol\bld\bd>\b>.\b..\b.<\b<n\bne\bew\bw>\b> in most cases, and <\b<o\bol\bld\bd>\b>.\b..\b..\b.<\b<n\bne\bew\bw>\b> for\r\n",
      "           forced non-fast-forward updates).\r\n",
      "\r\n",
      "           For a failed update, more details are given:\r\n",
      "\r\n",
      "           rejected\r\n",
      "               Git did not try to send the ref at all, typically because it is\r\n",
      "               not a fast-forward and you did not force the update.\r\n",
      "\r\n",
      "           remote rejected\r\n",
      "               The remote end refused the update. Usually caused by a hook on\r\n",
      "               the remote side, or because the remote repository has one of\r\n",
      "               the following safety options in effect:\r\n",
      "               r\bre\bec\bce\bei\biv\bve\be.\b.d\bde\ben\bny\byC\bCu\bur\brr\bre\ben\bnt\btB\bBr\bra\ban\bnc\bch\bh (for pushes to the checked out\r\n",
      "               branch), r\bre\bec\bce\bei\biv\bve\be.\b.d\bde\ben\bny\byN\bNo\bon\bnF\bFa\bas\bst\btF\bFo\bor\brw\bwa\bar\brd\bds\bs (for forced\r\n",
      "               non-fast-forward updates), r\bre\bec\bce\bei\biv\bve\be.\b.d\bde\ben\bny\byD\bDe\bel\ble\bet\bte\bes\bs or\r\n",
      "               r\bre\bec\bce\bei\biv\bve\be.\b.d\bde\ben\bny\byD\bDe\bel\ble\bet\bte\beC\bCu\bur\brr\bre\ben\bnt\bt. See g\bgi\bit\bt-\b-c\bco\bon\bnf\bfi\big\bg(1).\r\n",
      "\r\n",
      "           remote failure\r\n",
      "               The remote end did not report the successful update of the ref,\r\n",
      "               perhaps because of a temporary error on the remote side, a\r\n",
      "               break in the network connection, or other transient error.\r\n",
      "\r\n",
      "       from\r\n",
      "           The name of the local ref being pushed, minus its r\bre\bef\bfs\bs/\b/<\b<t\bty\byp\bpe\be>\b>/\b/\r\n",
      "           prefix. In the case of deletion, the name of the local ref is\r\n",
      "           omitted.\r\n",
      "\r\n",
      "       to\r\n",
      "           The name of the remote ref being updated, minus its r\bre\bef\bfs\bs/\b/<\b<t\bty\byp\bpe\be>\b>/\b/\r\n",
      "           prefix.\r\n",
      "\r\n",
      "       reason\r\n",
      "           A human-readable explanation. In the case of successfully pushed\r\n",
      "           refs, no explanation is needed. For a failed ref, the reason for\r\n",
      "           failure is described.\r\n",
      "\r\n",
      "N\bNO\bOT\bTE\bE A\bAB\bBO\bOU\bUT\bT F\bFA\bAS\bST\bT-\b-F\bFO\bOR\bRW\bWA\bAR\bRD\bDS\bS\r\n",
      "       When an update changes a branch (or more in general, a ref) that used\r\n",
      "       to point at commit A to point at another commit B, it is called a\r\n",
      "       fast-forward update if and only if B is a descendant of A.\r\n",
      "\r\n",
      "       In a fast-forward update from A to B, the set of commits that the\r\n",
      "       original commit A built on top of is a subset of the commits the new\r\n",
      "       commit B builds on top of. Hence, it does not lose any history.\r\n",
      "\r\n",
      "       In contrast, a non-fast-forward update will lose history. For example,\r\n",
      "       suppose you and somebody else started at the same commit X, and you\r\n",
      "       built a history leading to commit B while the other person built a\r\n",
      "       history leading to commit A. The history looks like this:\r\n",
      "\r\n",
      "                 B\r\n",
      "                /\r\n",
      "            ---X---A\r\n",
      "\r\n",
      "\r\n",
      "       Further suppose that the other person already pushed changes leading to\r\n",
      "       A back to the original repository from which you two obtained the\r\n",
      "       original commit X.\r\n",
      "\r\n",
      "       The push done by the other person updated the branch that used to point\r\n",
      "       at commit X to point at commit A. It is a fast-forward.\r\n",
      "\r\n",
      "       But if you try to push, you will attempt to update the branch (that now\r\n",
      "       points at A) with commit B. This does _\bn_\bo_\bt fast-forward. If you did so,\r\n",
      "       the changes introduced by commit A will be lost, because everybody will\r\n",
      "       now start building on top of B.\r\n",
      "\r\n",
      "       The command by default does not allow an update that is not a\r\n",
      "       fast-forward to prevent such loss of history.\r\n",
      "\r\n",
      "       If you do not want to lose your work (history from X to B) or the work\r\n",
      "       by the other person (history from X to A), you would need to first\r\n",
      "       fetch the history from the repository, create a history that contains\r\n",
      "       changes done by both parties, and push the result back.\r\n",
      "\r\n",
      "       You can perform \"git pull\", resolve potential conflicts, and \"git push\"\r\n",
      "       the result. A \"git pull\" will create a merge commit C between commits A\r\n",
      "       and B.\r\n",
      "\r\n",
      "                 B---C\r\n",
      "                /   /\r\n",
      "            ---X---A\r\n",
      "\r\n",
      "\r\n",
      "       Updating A with the resulting merge commit will fast-forward and your\r\n",
      "       push will be accepted.\r\n",
      "\r\n",
      "       Alternatively, you can rebase your change between X and B on top of A,\r\n",
      "       with \"git pull --rebase\", and push the result back. The rebase will\r\n",
      "       create a new commit D that builds the change between X and B on top of\r\n",
      "       A.\r\n",
      "\r\n",
      "                 B   D\r\n",
      "                /   /\r\n",
      "            ---X---A\r\n",
      "\r\n",
      "\r\n",
      "       Again, updating A with this commit will fast-forward and your push will\r\n",
      "       be accepted.\r\n",
      "\r\n",
      "       There is another common situation where you may encounter\r\n",
      "       non-fast-forward rejection when you try to push, and it is possible\r\n",
      "       even when you are pushing into a repository nobody else pushes into.\r\n",
      "       After you push commit A yourself (in the first picture in this\r\n",
      "       section), replace it with \"git commit --amend\" to produce commit B, and\r\n",
      "       you try to push it out, because forgot that you have pushed A out\r\n",
      "       already. In such a case, and only if you are certain that nobody in the\r\n",
      "       meantime fetched your earlier commit A (and started building on top of\r\n",
      "       it), you can run \"git push --force\" to overwrite it. In other words,\r\n",
      "       \"git push --force\" is a method reserved for a case where you do mean to\r\n",
      "       lose history.\r\n",
      "\r\n",
      "E\bEX\bXA\bAM\bMP\bPL\bLE\bES\bS\r\n",
      "       g\bgi\bit\bt p\bpu\bus\bsh\bh\r\n",
      "           Works like g\bgi\bit\bt p\bpu\bus\bsh\bh <\b<r\bre\bem\bmo\bot\bte\be>\b>, where <remote> is the current\r\n",
      "           branch's remote (or o\bor\bri\big\bgi\bin\bn, if no remote is configured for the\r\n",
      "           current branch).\r\n",
      "\r\n",
      "       g\bgi\bit\bt p\bpu\bus\bsh\bh o\bor\bri\big\bgi\bin\bn\r\n",
      "           Without additional configuration, pushes the current branch to the\r\n",
      "           configured upstream (r\bre\bem\bmo\bot\bte\be.\b.o\bor\bri\big\bgi\bin\bn.\b.m\bme\ber\brg\bge\be configuration variable) if\r\n",
      "           it has the same name as the current branch, and errors out without\r\n",
      "           pushing otherwise.\r\n",
      "\r\n",
      "           The default behavior of this command when no <refspec> is given can\r\n",
      "           be configured by setting the p\bpu\bus\bsh\bh option of the remote, or the\r\n",
      "           p\bpu\bus\bsh\bh.\b.d\bde\bef\bfa\bau\bul\blt\bt configuration variable.\r\n",
      "\r\n",
      "           For example, to default to pushing only the current branch to\r\n",
      "           o\bor\bri\big\bgi\bin\bn use g\bgi\bit\bt c\bco\bon\bnf\bfi\big\bg r\bre\bem\bmo\bot\bte\be.\b.o\bor\bri\big\bgi\bin\bn.\b.p\bpu\bus\bsh\bh H\bHE\bEA\bAD\bD. Any valid <refspec>\r\n",
      "           (like the ones in the examples below) can be configured as the\r\n",
      "           default for g\bgi\bit\bt p\bpu\bus\bsh\bh o\bor\bri\big\bgi\bin\bn.\r\n",
      "\r\n",
      "       g\bgi\bit\bt p\bpu\bus\bsh\bh o\bor\bri\big\bgi\bin\bn :\b:\r\n",
      "           Push \"matching\" branches to o\bor\bri\big\bgi\bin\bn. See <refspec> in the OPTIONS\r\n",
      "           section above for a description of \"matching\" branches.\r\n",
      "\r\n",
      "       g\bgi\bit\bt p\bpu\bus\bsh\bh o\bor\bri\big\bgi\bin\bn m\bma\bas\bst\bte\ber\br\r\n",
      "           Find a ref that matches m\bma\bas\bst\bte\ber\br in the source repository (most\r\n",
      "           likely, it would find r\bre\bef\bfs\bs/\b/h\bhe\bea\bad\bds\bs/\b/m\bma\bas\bst\bte\ber\br), and update the same ref\r\n",
      "           (e.g.  r\bre\bef\bfs\bs/\b/h\bhe\bea\bad\bds\bs/\b/m\bma\bas\bst\bte\ber\br) in o\bor\bri\big\bgi\bin\bn repository with it. If m\bma\bas\bst\bte\ber\br\r\n",
      "           did not exist remotely, it would be created.\r\n",
      "\r\n",
      "       g\bgi\bit\bt p\bpu\bus\bsh\bh o\bor\bri\big\bgi\bin\bn H\bHE\bEA\bAD\bD\r\n",
      "           A handy way to push the current branch to the same name on the\r\n",
      "           remote.\r\n",
      "\r\n",
      "       g\bgi\bit\bt p\bpu\bus\bsh\bh m\bmo\bot\bth\bhe\ber\brs\bsh\bhi\bip\bp m\bma\bas\bst\bte\ber\br:\b:s\bsa\bat\bte\bel\bll\bli\bit\bte\be/\b/m\bma\bas\bst\bte\ber\br d\bde\bev\bv:\b:s\bsa\bat\bte\bel\bll\bli\bit\bte\be/\b/d\bde\bev\bv\r\n",
      "           Use the source ref that matches m\bma\bas\bst\bte\ber\br (e.g.  r\bre\bef\bfs\bs/\b/h\bhe\bea\bad\bds\bs/\b/m\bma\bas\bst\bte\ber\br) to\r\n",
      "           update the ref that matches s\bsa\bat\bte\bel\bll\bli\bit\bte\be/\b/m\bma\bas\bst\bte\ber\br (most probably\r\n",
      "           r\bre\bef\bfs\bs/\b/r\bre\bem\bmo\bot\bte\bes\bs/\b/s\bsa\bat\bte\bel\bll\bli\bit\bte\be/\b/m\bma\bas\bst\bte\ber\br) in the m\bmo\bot\bth\bhe\ber\brs\bsh\bhi\bip\bp repository; do the\r\n",
      "           same for d\bde\bev\bv and s\bsa\bat\bte\bel\bll\bli\bit\bte\be/\b/d\bde\bev\bv.\r\n",
      "\r\n",
      "           This is to emulate g\bgi\bit\bt f\bfe\bet\btc\bch\bh run on the m\bmo\bot\bth\bhe\ber\brs\bsh\bhi\bip\bp using g\bgi\bit\bt p\bpu\bus\bsh\bh\r\n",
      "           that is run in the opposite direction in order to integrate the\r\n",
      "           work done on s\bsa\bat\bte\bel\bll\bli\bit\bte\be, and is often necessary when you can only\r\n",
      "           make connection in one way (i.e. satellite can ssh into mothership\r\n",
      "           but mothership cannot initiate connection to satellite because the\r\n",
      "           latter is behind a firewall or does not run sshd).\r\n",
      "\r\n",
      "           After running this g\bgi\bit\bt p\bpu\bus\bsh\bh on the s\bsa\bat\bte\bel\bll\bli\bit\bte\be machine, you would ssh\r\n",
      "           into the m\bmo\bot\bth\bhe\ber\brs\bsh\bhi\bip\bp and run g\bgi\bit\bt m\bme\ber\brg\bge\be there to complete the\r\n",
      "           emulation of g\bgi\bit\bt p\bpu\bul\bll\bl that were run on m\bmo\bot\bth\bhe\ber\brs\bsh\bhi\bip\bp to pull changes\r\n",
      "           made on s\bsa\bat\bte\bel\bll\bli\bit\bte\be.\r\n",
      "\r\n",
      "       g\bgi\bit\bt p\bpu\bus\bsh\bh o\bor\bri\big\bgi\bin\bn H\bHE\bEA\bAD\bD:\b:m\bma\bas\bst\bte\ber\br\r\n",
      "           Push the current branch to the remote ref matching m\bma\bas\bst\bte\ber\br in the\r\n",
      "           o\bor\bri\big\bgi\bin\bn repository. This form is convenient to push the current\r\n",
      "           branch without thinking about its local name.\r\n",
      "\r\n",
      "       g\bgi\bit\bt p\bpu\bus\bsh\bh o\bor\bri\big\bgi\bin\bn m\bma\bas\bst\bte\ber\br:\b:r\bre\bef\bfs\bs/\b/h\bhe\bea\bad\bds\bs/\b/e\bex\bxp\bpe\ber\bri\bim\bme\ben\bnt\bta\bal\bl\r\n",
      "           Create the branch e\bex\bxp\bpe\ber\bri\bim\bme\ben\bnt\bta\bal\bl in the o\bor\bri\big\bgi\bin\bn repository by copying\r\n",
      "           the current m\bma\bas\bst\bte\ber\br branch. This form is only needed to create a new\r\n",
      "           branch or tag in the remote repository when the local name and the\r\n",
      "           remote name are different; otherwise, the ref name on its own will\r\n",
      "           work.\r\n",
      "\r\n",
      "       g\bgi\bit\bt p\bpu\bus\bsh\bh o\bor\bri\big\bgi\bin\bn :\b:e\bex\bxp\bpe\ber\bri\bim\bme\ben\bnt\bta\bal\bl\r\n",
      "           Find a ref that matches e\bex\bxp\bpe\ber\bri\bim\bme\ben\bnt\bta\bal\bl in the o\bor\bri\big\bgi\bin\bn repository (e.g.\r\n",
      "           r\bre\bef\bfs\bs/\b/h\bhe\bea\bad\bds\bs/\b/e\bex\bxp\bpe\ber\bri\bim\bme\ben\bnt\bta\bal\bl), and delete it.\r\n",
      "\r\n",
      "       g\bgi\bit\bt p\bpu\bus\bsh\bh o\bor\bri\big\bgi\bin\bn +\b+d\bde\bev\bv:\b:m\bma\bas\bst\bte\ber\br\r\n",
      "           Update the origin repository's master branch with the dev branch,\r\n",
      "           allowing non-fast-forward updates.  T\bTh\bhi\bis\bs c\bca\ban\bn l\ble\bea\bav\bve\be u\bun\bnr\bre\bef\bfe\ber\bre\ben\bnc\bce\bed\bd\r\n",
      "           c\bco\bom\bmm\bmi\bit\bts\bs d\bda\ban\bng\bgl\bli\bin\bng\bg i\bin\bn t\bth\bhe\be o\bor\bri\big\bgi\bin\bn r\bre\bep\bpo\bos\bsi\bit\bto\bor\bry\by.\b.  Consider the following\r\n",
      "           situation, where a fast-forward is not possible:\r\n",
      "\r\n",
      "                           o---o---o---A---B  origin/master\r\n",
      "                                    \\\r\n",
      "                                     X---Y---Z  dev\r\n",
      "\r\n",
      "           The above command would change the origin repository to\r\n",
      "\r\n",
      "                                     A---B  (unnamed branch)\r\n",
      "                                    /\r\n",
      "                           o---o---o---X---Y---Z  master\r\n",
      "\r\n",
      "           Commits A and B would no longer belong to a branch with a symbolic\r\n",
      "           name, and so would be unreachable. As such, these commits would be\r",
      "\r\n",
      "           removed by a g\bgi\bit\bt g\bgc\bc command on the origin repository.\r\n",
      "\r\n",
      "S\bSE\bEC\bCU\bUR\bRI\bIT\bTY\bY\r\n",
      "       The fetch and push protocols are not designed to prevent one side from\r\n",
      "       stealing data from the other repository that was not intended to be\r\n",
      "       shared. If you have private data that you need to protect from a\r\n",
      "       malicious peer, your best option is to store it in another repository.\r\n",
      "       This applies to both clients and servers. In particular, namespaces on\r\n",
      "       a server are not effective for read access control; you should only\r\n",
      "       grant read access to a namespace to clients that you would trust with\r\n",
      "       read access to the entire repository.\r\n",
      "\r\n",
      "       The known attack vectors are as follows:\r\n",
      "\r\n",
      "        1. The victim sends \"have\" lines advertising the IDs of objects it has\r\n",
      "           that are not explicitly intended to be shared but can be used to\r\n",
      "           optimize the transfer if the peer also has them. The attacker\r\n",
      "           chooses an object ID X to steal and sends a ref to X, but isn't\r\n",
      "           required to send the content of X because the victim already has\r\n",
      "           it. Now the victim believes that the attacker has X, and it sends\r\n",
      "           the content of X back to the attacker later. (This attack is most\r\n",
      "           straightforward for a client to perform on a server, by creating a\r\n",
      "           ref to X in the namespace the client has access to and then\r\n",
      "           fetching it. The most likely way for a server to perform it on a\r\n",
      "           client is to \"merge\" X into a public branch and hope that the user\r\n",
      "           does additional work on this branch and pushes it back to the\r\n",
      "           server without noticing the merge.)\r\n",
      "\r\n",
      "        2. As in #1, the attacker chooses an object ID X to steal. The victim\r\n",
      "           sends an object Y that the attacker already has, and the attacker\r\n",
      "           falsely claims to have X and not Y, so the victim sends Y as a\r\n",
      "           delta against X. The delta reveals regions of X that are similar to\r\n",
      "           Y to the attacker.\r\n",
      "\r\n",
      "G\bGI\bIT\bT\r\n",
      "       Part of the g\bgi\bit\bt(1) suite\r\n",
      "\r\n",
      "\r\n",
      "\r\n",
      "Git 2.17.1                        05/29/2018                       GIT-PUSH(1)\r\n"
     ]
    }
   ],
   "source": [
    "! git help push"
   ]
  },
  {
   "cell_type": "code",
   "execution_count": 4,
   "metadata": {},
   "outputs": [
    {
     "name": "stderr",
     "output_type": "stream",
     "text": [
      "UsageError: Cell magic `%%brew` not found.\n"
     ]
    }
   ],
   "source": [
    "%%brew tap theseal/ssh-askpass\n",
    "% brew install ssh-askpass\n",
    "% sudo ln -s /usr/local/bin/ssh-askpass /usr/X11R6/bin/ssh-askpass"
   ]
  },
  {
   "cell_type": "code",
   "execution_count": null,
   "metadata": {},
   "outputs": [],
   "source": []
  },
  {
   "cell_type": "markdown",
   "metadata": {},
   "source": [
    "**This tutorial is largely based on the repository**:\n",
    "\n",
    "git@github.com:rdadolf/git-and-github.git\n",
    "\n",
    "**which was created for IACS's ac297r course, By Robert Adolf. Most of the credit goes to him**.\n",
    "\n",
    "Version control is a way of tracking the change history of a project. Even if you have never used a version control tool, you've probably already done it manually: copying and renaming project folders (\"paper-1.doc\", \"paper-2.doc\", etc.) is a form of version control.\n",
    "\n",
    "Git is a tool that automates and enhances a lot of the tasks that arise when dealing with larger, longer-living, and collaborative projects. It's also become the common underpinning to many popular online code repositories, [GitHub](https://github.com/) being the most popular.\n",
    "\n",
    "We'll go over the basics of git, but we should point out that a *lot* of talented people have given git tutorials, and we won't do any better than they have. In fact, if you're interested in learning git deeply and have some time on your hands, I suggest you stop reading this and instead read [the Git Book](http://git-scm.com/book/en/v2). Scott Chacon and Ben Straub have done a tremendous job, and if you want to understand both the interfaces and the mechanisms behind git, this is the place to start.\n",
    "\n",
    "In this document, we'll go over the concepts of git that are relevant to this course. You will be using git in a particular fashion, in this course, which is described in Homework 0. Homework 0 also contains details about how to install git; so if you havent done so, please do so and come back here."
   ]
  },
  {
   "cell_type": "markdown",
   "metadata": {},
   "source": [
    "#Table of Contents\n",
    "* [Lab 1: Version Control with Git](#Lab-1:-Version-Control-with-Git)\n",
    "\t* [Why should you use version control?](#Why-should-you-use-version-control?)\n",
    "\t* [Git Basics](#Git-Basics)\n",
    "\t* [Common Tasks in the version control of files.](#Common-Tasks-in-the-version-control-of-files.)\n",
    "\t\t* [Forking a repository](#Forking-a-repository)\n",
    "\t\t* [Cloning a repository](#Cloning-a-repository)\n",
    "\t\t* [Poking around](#Poking-around)\n",
    "\t\t* [Making changes](#Making-changes)\n",
    "\t\t* [Remotes and `fetch`ing from them](#Remotes-and-fetching-from-them)\n",
    "\t\t* [Branching.](#Branching.)\n",
    "\t\t* [Recovering from a mistake](#Recovering-from-a-mistake)\n",
    "\t\t* [Changing only one file](#Changing-only-one-file)\n",
    "\t* [The Homework git flow](#The-Homework-git-flow)\n",
    "\t* [The Lab git flow](#The-Lab-git-flow)\n",
    "\t* [Creating a new repository](#Creating-a-new-repository)\n",
    "\t* [Github Pages](#Github-Pages)\n",
    "\t\t* [Automatically Generated Project Pages](#Automatically-Generated-Project-Pages)\n",
    "\t\t* [Static Project Pages](#Static-Project-Pages)\n",
    "\t* [Git habits](#Git-habits)\n"
   ]
  },
  {
   "cell_type": "markdown",
   "metadata": {},
   "source": [
    "**At this point, we assume you have installed git as described in HW0 and have followed the instructions there to create ssh keys for your machine**. This enables you to use git without a pesky username-password combination."
   ]
  },
  {
   "cell_type": "markdown",
   "metadata": {},
   "source": [
    "----"
   ]
  },
  {
   "cell_type": "markdown",
   "metadata": {},
   "source": [
    "## Why should you use version control?"
   ]
  },
  {
   "cell_type": "markdown",
   "metadata": {},
   "source": [
    "If you ask 10 people, you'll get 10 different answers, but one of the commonalities is that most people don't realize how integral it is to their development process until they've started using it. Still, for the sake of argument, here are some highlights:\n",
    "\n",
    "- ** You can undo anything: ** Git provides a *complete history* of every change that has ever been made to your project, timestamped, commented, and attributed. If something breaks, you always have the choice of going back to a previous state.\n",
    "- ** You won't *need* to keep undo-ing things: ** One of the advantages of using git properly is that by keeping new changes separate from a stable base, you tend to avoid the massive rollbacks associated with constantly tinkering with a single code.\n",
    "- ** You can identify exactly when and where changes were made: ** Git allows you to pinpoint when a particular piece of code was changed, so finding what other pieces of code a bug might affect or figuring out why a certain expression was added is easy.\n",
    "- ** Git forces teams to face conflicts directly: ** On a team-based project, many people are often working with the same code. By having a tool which understands when and where files were changed, it's easy to see when changes might conflict with each other. While it might seem troublesome sometimes to have to deal with conflicts, the alternative&mdash;*not* knowing there's a conflict&mdash;is much more insidious."
   ]
  },
  {
   "cell_type": "markdown",
   "metadata": {},
   "source": [
    "----"
   ]
  },
  {
   "cell_type": "markdown",
   "metadata": {},
   "source": [
    "## Git Basics"
   ]
  },
  {
   "cell_type": "markdown",
   "metadata": {},
   "source": [
    "The first thing to understand about git is that the contents of your project are stored in several different states and forms at any given time. If you think about what version control is, this might not be surprising: in order to remember every change that's ever been made, you need to store a record of those changes *somewhere*, and to be able to handle multiple people changing the same code, you need to have different copies of the project and a way to combine them.\n",
    "\n",
    "You can think about git operating on four different areas:\n",
    "\n",
    "![Git Commands](git_layout.png)\n",
    "\n",
    " - The **working directory** is what you're currently looking at. When you use an editor to modify a file, the changes are made to the working directory.\n",
    " - The **staging area** is a place to collect a set of changes made to your project. If you have changed three files to fix a bug, you will add all three to the staging area so that you can remember the changes as one historical entity. It is also called the **index**. You move files from the working directory to the index using the command `git add`.\n",
    " - The **local repository** is the place where git stores everything you've ever done to your project. Even when you delete a file, a copy is stored in the repo (this is necessary for always being able to undo any change). It's important to note that a local repository doesn't look much at all like your project files or directories. Git has its own way of storing all the information, and if you're curious what it looks like, look in the `.git` directory in the working directory of your project. Files are moved from the index to the local repository via the command `git commit`.\n",
    " - When working in a team, every member will be working on their own local repository. An **upstream repository** allows everyone to agree on a single version of history. If two people have made changes on their local repositories, they will combine those changes in the upstream repository. In our case this upstream repository is hosted by github. This need not be the case; SEAS provides git hosting, as do companies like Atlassian (bitbucket). This upstream repository is also called a **remote** in git parlance. The standard github remote is called the **origin**: it is the repository which is given a web page on github. One usually moves code from local to remote repositories using `git push`, and in the other direction using `git fetch`.\n",
    "\n",
    "You can think of most git operations as moving code or metadata from one of these areas to another."
   ]
  },
  {
   "cell_type": "markdown",
   "metadata": {},
   "source": [
    "----"
   ]
  },
  {
   "cell_type": "markdown",
   "metadata": {},
   "source": [
    "## Common Tasks in the version control of files."
   ]
  },
  {
   "cell_type": "markdown",
   "metadata": {},
   "source": [
    "### Forking a repository"
   ]
  },
  {
   "cell_type": "markdown",
   "metadata": {},
   "source": [
    "Forking a repository done on github. On github, go to the url https://github.com/cs109/Testing. Click the \"Fork button on the upper right side. A screenshot is below. \n",
    "\n",
    "![forking](github-forking.png)\n",
    "\n",
    "Forking brings a repository into your own namespace. Its really a *cloning* process (see below), but its done between two \"remotes\" on the server. In other words it creates a second upstream repository on the server, called the **origin**.\n",
    "\n",
    "The forking process on github will ask you *where* you want to fork the repository. Choose your own github id.\n",
    "\n",
    "![forking](github-forking2.png)\n",
    "\n",
    "In my case I will choose `@rahuldave`, as in the screenshot above. In this tutorial, wherever you see `rahuldave`, substitute your own github id.\n",
    "\n",
    "This leaves me with my own repository, `rahuldave/Testing`, as seen in this image\n",
    "\n",
    "![forking](github-forking3.png)\n",
    "\n",
    "You will get a similar page."
   ]
  },
  {
   "cell_type": "markdown",
   "metadata": {},
   "source": [
    "### Cloning a repository"
   ]
  },
  {
   "cell_type": "markdown",
   "metadata": {},
   "source": [
    "Now that we have a **fork** of the `cs109/Testing` repository, lets **clone** it down to our local machines."
   ]
  },
  {
   "cell_type": "markdown",
   "metadata": {},
   "source": [
    "----\n",
    "`clone`\n",
    "\n",
    "![clone](git_clone.png)\n",
    "\n",
    "Cloning a repository does two things: it takes a repository from somewhere (usually an **upstream repository**) and makes a local copy (your new **local repository**), and it creates the most recent copy of all of the files in the project (your new **working directory**). This is generally how you will start working on a project for the first time."
   ]
  },
  {
   "cell_type": "markdown",
   "metadata": {},
   "source": [
    "Cloning a repository depends a lot on the type of repository you're using. If you're cloning out of a directory on the machine you're currently on, it's just the path to the `<project>.git` file. For github, you can clone over *ssh* using the SSH clone url in the bottom right corner of the last screenshot. This assumes you have set up your ssh keys. See HW0 for how to do this if you havent done it as yet. If you havent set up your ssh keys, use *https* instead."
   ]
  },
  {
   "cell_type": "markdown",
   "metadata": {},
   "source": [
    "**Note for windows users**\n",
    "\n",
    "`bash.exe` is installed along with git but isnt in your path. Convert the next cell from Raw NbConvert to code and run it to add the path to bash to your path"
   ]
  },
  {
   "cell_type": "raw",
   "metadata": {},
   "source": [
    "import os\n",
    "os.environ['path']+=\"C:\\Program Files\\Git\\\\bin\""
   ]
  },
  {
   "cell_type": "code",
   "execution_count": 2,
   "metadata": {},
   "outputs": [
    {
     "name": "stderr",
     "output_type": "stream",
     "text": [
      "Cloning into 'Testing'...\n",
      "ssh_askpass: exec(/usr/X11R6/bin/ssh-askpass): No such file or directory\r\n",
      "Host key verification failed.\r\n",
      "fatal: Could not read from remote repository.\n",
      "\n",
      "Please make sure you have the correct access rights\n",
      "and the repository exists.\n"
     ]
    }
   ],
   "source": [
    "%%bash\n",
    "cd \n",
    "rm -rf Testing #remove if it exists\n",
    "git clone git@github.com:d2meow/Testing.git"
   ]
  },
  {
   "cell_type": "code",
   "execution_count": null,
   "metadata": {},
   "outputs": [],
   "source": [
    "%%bash\n",
    "ls /tmp/Testing"
   ]
  },
  {
   "cell_type": "markdown",
   "metadata": {},
   "source": [
    "### Poking around"
   ]
  },
  {
   "cell_type": "markdown",
   "metadata": {},
   "source": [
    "We have a nice smelling fresh repository. Lets look around it.\n",
    "\n",
    "`log`\n",
    "\n",
    "Log tells you all the changes that have occured in this project as of now..."
   ]
  },
  {
   "cell_type": "code",
   "execution_count": 6,
   "metadata": {},
   "outputs": [
    {
     "name": "stdout",
     "output_type": "stream",
     "text": [
      "commit 850463e4fadc169668dd7a992bdf31add21217f0\n",
      "Author: Rahul Dave <rahuldave@gmail.com>\n",
      "Date:   Tue Sep 8 11:16:10 2015 -0400\n",
      "\n",
      "    Update README.md\n",
      "\n",
      "commit 435173c4e2dc12045e1598352789c562f070e521\n",
      "Author: Rahul Dave <rahuldave@gmail.com>\n",
      "Date:   Thu Sep 3 14:57:44 2015 -0400\n",
      "\n",
      "    updated windows instructions\n",
      "\n",
      "commit 74c4d64d73cedb7a086c70d6cd8770f433174f6b\n",
      "Author: Rahul Dave <rahuldave@gmail.com>\n",
      "Date:   Thu Sep 3 14:35:14 2015 -0400\n",
      "\n",
      "    added flows to git lab\n",
      "\n",
      "commit 453e15f4e242e6ad4a7348dbe10653f0fe72129d\n",
      "Author: Rahul Dave <rahuldave@gmail.com>\n",
      "Date:   Thu Sep 3 01:58:21 2015 -0400\n",
      "\n",
      "    add binder link\n",
      "\n",
      "commit c10ebcc5fed089034aaf6acacccd65b4e89c995f\n",
      "Author: Rahul Dave <rahuldave@gmail.com>\n",
      "Date:   Thu Sep 3 01:55:39 2015 -0400\n",
      "\n",
      "    added requirements for binder\n",
      "\n",
      "commit 86233336dbfaeafdde2218a0c9324c6973cd9cbb\n",
      "Author: Rahul Dave <rahuldave@gmail.com>\n",
      "Date:   Thu Sep 3 01:33:04 2015 -0400\n",
      "\n",
      "    put flow into the readme\n",
      "\n",
      "commit 7247a5d75ff2fbbb107e2377bafc0b522cb1becb\n",
      "Author: Rahul Dave <rahuldave@gmail.com>\n",
      "Date:   Thu Sep 3 01:22:31 2015 -0400\n",
      "\n",
      "    added hw0 to lab1 for convenience\n",
      "\n",
      "commit 340dee5c8ae0d5b1cc6fd80b41f9cb1f4f90f14c\n",
      "Author: Rahul Dave <rahuldave@gmail.com>\n",
      "Date:   Wed Sep 2 23:26:28 2015 -0400\n",
      "\n",
      "    made git homework windows compatible\n",
      "\n",
      "commit 0f8a368a7a2c0850d6aa032edcd75d0209954f11\n",
      "Author: Rahul Dave <rahuldave@gmail.com>\n",
      "Date:   Wed Sep 2 15:48:16 2015 -0400\n",
      "\n",
      "    made copies of originals\n",
      "\n",
      "commit d8ad92c16cdbaeb1cbf3901f9a29f918e41ee599\n",
      "Author: Rahul Dave <rahuldave@gmail.com>\n",
      "Date:   Wed Sep 2 15:36:38 2015 -0400\n",
      "\n",
      "    initial copy\n",
      "\n",
      "commit 6fe6892ac4f4a4902335d813d3685c7baa8fd022\n",
      "Author: Rahul Dave <rahuldave@gmail.com>\n",
      "Date:   Wed Sep 2 15:22:42 2015 -0400\n",
      "\n",
      "    Initial commit\n"
     ]
    },
    {
     "name": "stderr",
     "output_type": "stream",
     "text": [
      "bash: line 1: cd: /tmp/Testing: No such file or directory\n"
     ]
    }
   ],
   "source": [
    "%%bash\n",
    "cd /tmp/Testing; git log"
   ]
  },
  {
   "cell_type": "markdown",
   "metadata": {},
   "source": [
    "Each one of these \"commits\" is a SHA hash. It uniquely identifies all actions that have happened to this repository previously. We shall soon see how to add our own actions in. In the meanwhile, lets see the \"status\"of our working directory."
   ]
  },
  {
   "cell_type": "markdown",
   "metadata": {},
   "source": [
    "If you ever need help on a command, you can find the git man pages by hyphenating `git` and the command name:"
   ]
  },
  {
   "cell_type": "raw",
   "metadata": {},
   "source": [
    "$man git-status"
   ]
  },
  {
   "cell_type": "markdown",
   "metadata": {},
   "source": [
    "----\n",
    "`status`\n",
    "\n",
    "![status](git_status.png)\n",
    "\n",
    "Status is your window into the current state of your project. It can tell you which files you have changed and which files you currently have in your staging area."
   ]
  },
  {
   "cell_type": "code",
   "execution_count": 3,
   "metadata": {},
   "outputs": [
    {
     "name": "stdout",
     "output_type": "stream",
     "text": [
      "On branch master\n",
      "Your branch is up to date with 'origin/master'.\n",
      "\n",
      "Changes not staged for commit:\n",
      "  (use \"git add <file>...\" to update what will be committed)\n",
      "  (use \"git checkout -- <file>...\" to discard changes in working directory)\n",
      "\n",
      "\tmodified:   Lab1-git.ipynb\n",
      "\tmodified:   Lab1-pythonpandas.ipynb\n",
      "\tmodified:   hw0.ipynb\n",
      "\n",
      "no changes added to commit (use \"git add\" and/or \"git commit -a\")\n"
     ]
    },
    {
     "name": "stderr",
     "output_type": "stream",
     "text": [
      "bash: line 1: cd: /Testing: No such file or directory\n"
     ]
    }
   ],
   "source": [
    "%%bash\n",
    "cd /Testing; git status"
   ]
  },
  {
   "cell_type": "markdown",
   "metadata": {},
   "source": [
    "Pay close attention to the text above. It says we are on the master branch of our **local repository**, and that this branch is up-to-date with the master branch of the **upstream  repository** or **remote** named **origin**. We know this as clone brings down a copy of the remote branch:  \"`origin/master`\" represents the local copy of the branch that came from the upstream repository (nicknamed \"`origin`\" in this case). **Branches** are different, co-existing versions of your project. Here we have encountered two of them, but remember there is a third one in the repository we forked from, and perhaps many more, depending on who else made these forks (as well as my original clones of cs109/Testing).\n",
    "\n",
    "This sounds like a recipe for disaster, but in a sense, branches are just like commits. They represent a snapshot of the project, by someone, at some particular point in time. In general you will only care about your own branches, and those of the \"parent\" remotes you forked/cloned from.\n",
    "\n",
    "Configuration Information is stored in a special file `config`, in a hidden folder called `.git` in your working directory. (The index and the local repository are stored there as well...more on that in  a bit)"
   ]
  },
  {
   "cell_type": "code",
   "execution_count": 6,
   "metadata": {},
   "outputs": [
    {
     "name": "stdout",
     "output_type": "stream",
     "text": [
      "[core]\n",
      "\trepositoryformatversion = 0\n",
      "\tfilemode = true\n",
      "\tbare = false\n",
      "\tlogallrefupdates = true\n",
      "\tignorecase = true\n",
      "\tprecomposeunicode = true\n",
      "[remote \"origin\"]\n",
      "\turl = git@github.com:rahuldave/Testing.git\n",
      "\tfetch = +refs/heads/*:refs/remotes/origin/*\n",
      "[branch \"master\"]\n",
      "\tremote = origin\n",
      "\tmerge = refs/heads/master\n"
     ]
    }
   ],
   "source": [
    "%%bash\n",
    "cd /tmp/Testing; cat .git/config"
   ]
  },
  {
   "cell_type": "markdown",
   "metadata": {},
   "source": [
    "Notice that this file tells us about a remote called \"origin\" which is simply the github repository we cloned from. So the process of cloning left us with a remote. The file also tells us about a branch called \"master\", which \"tracks\" a remote branch valled master at \"origin\". \n",
    "\n",
    "Finally I set us up with a `.gitignore` file, hidden in the repository folder. It tells us what files to ignore when adding files to the index, and then comitting them to the local repository. We use this file to ignore temporary data files and such when working in our repository. Folders are indicated with a `/` at the end, in which case, all files in that folder are ignored."
   ]
  },
  {
   "cell_type": "code",
   "execution_count": 7,
   "metadata": {},
   "outputs": [
    {
     "name": "stdout",
     "output_type": "stream",
     "text": [
      "# Byte-compiled / optimized / DLL files\n",
      "__pycache__/\n",
      "*.py[cod]\n",
      "\n",
      "# C extensions\n",
      "*.so\n",
      "\n",
      "# Distribution / packaging\n",
      ".Python\n",
      "env/\n",
      "build/\n",
      "develop-eggs/\n",
      "dist/\n",
      "downloads/\n",
      "eggs/\n",
      ".eggs/\n",
      "lib/\n",
      "lib64/\n",
      "parts/\n",
      "sdist/\n",
      "var/\n",
      "*.egg-info/\n",
      ".installed.cfg\n",
      "*.egg\n",
      "\n",
      "# PyInstaller\n",
      "#  Usually these files are written by a python script from a template\n",
      "#  before PyInstaller builds the exe, so as to inject date/other infos into it.\n",
      "*.manifest\n",
      "*.spec\n",
      "\n",
      "# Installer logs\n",
      "pip-log.txt\n",
      "pip-delete-this-directory.txt\n",
      "\n",
      "# Unit test / coverage reports\n",
      "htmlcov/\n",
      ".tox/\n",
      ".coverage\n",
      ".coverage.*\n",
      ".cache\n",
      "nosetests.xml\n",
      "coverage.xml\n",
      "*,cover\n",
      "\n",
      "# Translations\n",
      "*.mo\n",
      "*.pot\n",
      "\n",
      "# Django stuff:\n",
      "*.log\n",
      "\n",
      "# Sphinx documentation\n",
      "docs/_build/\n",
      "\n",
      "# PyBuilder\n",
      "target/\n"
     ]
    }
   ],
   "source": [
    "%%bash\n",
    "cd /tmp/Testing; cat .gitignore"
   ]
  },
  {
   "cell_type": "markdown",
   "metadata": {},
   "source": [
    "You are always working on a given branch in a repository. Typically this is `master`. More on this later..You can know which branch you are on by typing `git branch`. The strred one is the one you are on."
   ]
  },
  {
   "cell_type": "code",
   "execution_count": 8,
   "metadata": {},
   "outputs": [
    {
     "name": "stdout",
     "output_type": "stream",
     "text": [
      "* master\n"
     ]
    }
   ],
   "source": [
    "%%bash\n",
    "cd /tmp/Testing; git branch"
   ]
  },
  {
   "cell_type": "markdown",
   "metadata": {},
   "source": [
    "### Making changes"
   ]
  },
  {
   "cell_type": "markdown",
   "metadata": {},
   "source": [
    "Ok! Enough poking around. Lets get down to business and add some files into our folder.\n",
    "\n",
    "Now let's say that we want to add a new file to the project. The canonical sequence is \"edit&ndash;add&ndash;commit&ndash;push\"."
   ]
  },
  {
   "cell_type": "code",
   "execution_count": 9,
   "metadata": {},
   "outputs": [
    {
     "name": "stdout",
     "output_type": "stream",
     "text": [
      "On branch master\n",
      "Your branch is up-to-date with 'origin/master'.\n",
      "Changes not staged for commit:\n",
      "  (use \"git add <file>...\" to update what will be committed)\n",
      "  (use \"git checkout -- <file>...\" to discard changes in working directory)\n",
      "\n",
      "\tmodified:   hello.md\n",
      "\n",
      "no changes added to commit (use \"git add\" and/or \"git commit -a\")\n"
     ]
    }
   ],
   "source": [
    "%%bash\n",
    "cd /tmp/Testing\n",
    "echo '# Hello world rahuldave' > hello.md\n",
    "git status"
   ]
  },
  {
   "cell_type": "markdown",
   "metadata": {},
   "source": [
    "We've added a file to the working directory, but it hasn't been staged yet."
   ]
  },
  {
   "cell_type": "markdown",
   "metadata": {},
   "source": [
    "----\n",
    "`add`\n",
    "\n",
    "![add](git_add.png)\n",
    "\n",
    "When you've made a change to a set of files and are ready to create a commit, the first step is to add all of the changed files to the staging area. Add does that. Remember that what you see in the filesystem is your working directory, so the way to see what's in the staging area is with the `status` command. This also means that **if you add something to the staging area and then edit it again, you'll also need to add the file to the staging area again if you want to remember the new changes**."
   ]
  },
  {
   "cell_type": "code",
   "execution_count": 10,
   "metadata": {},
   "outputs": [
    {
     "name": "stdout",
     "output_type": "stream",
     "text": [
      "On branch master\n",
      "Your branch is up-to-date with 'origin/master'.\n",
      "Changes to be committed:\n",
      "  (use \"git reset HEAD <file>...\" to unstage)\n",
      "\n",
      "\tmodified:   hello.md\n",
      "\n"
     ]
    }
   ],
   "source": [
    "%%bash\n",
    "cd /tmp/Testing\n",
    "git add hello.md\n",
    "git status"
   ]
  },
  {
   "cell_type": "markdown",
   "metadata": {},
   "source": [
    "Now our file is in the staging area (Index), waiting to be committed.\n",
    "\n",
    "I will sometimes simply use `git add .` in the top level of the repository. This adds all new files and changed files to the index, and is particularly useful if I have created multiple new files."
   ]
  },
  {
   "cell_type": "markdown",
   "metadata": {},
   "source": [
    "----\n",
    "`commit`\n",
    "\n",
    "![commit](git_commit.png)\n",
    "\n",
    "When you're satisfied with the changes you've added to your staging area, you can commit those changes to your local repository with the `commit` command. Those changes will have a permanent record in the repository from now on."
   ]
  },
  {
   "cell_type": "markdown",
   "metadata": {},
   "source": [
    "Every commit has two features you should be aware of. The first is a hash. This is a unique identifier for all of the information about that commit, including the code changes, the timestamp, and the author. The second is a commit message. This is text that you can (and should) add to a commit to describe what the changes were.\n",
    "\n",
    "**Good commit messages are important.**\n",
    "\n",
    "Commit messages are a way of quickly telling your future self (and your collaborators) what a commit was about. For even a moderately sized project, digging through tens or hundreds of commits to find the change you're looking for is a nightmare without friendly summaries.\n",
    "\n",
    "By convention, commit messages start with a single-line summary, then an empty line, then a more comprehensive description of the changes.\n",
    "\n",
    "[This](https://github.com/rdadolf/clangtool/commit/bdd8f1290146c28a4cb05b62ccb0ffbaaa314ff7) is an okay commit message. The changes are small, and the summary is sufficient to describe what happened.\n",
    "\n",
    "[This](https://github.com/rdadolf/protos/commit/9fcbe1084b17027e003c62043d764ed5551ddadc) is better. The summary captures the important information (major shift, direct vs. helper), and the full commit message describes what the high-level changes were.\n",
    "\n",
    "[This](https://github.com/rdadolf/autopaxos/commit/d43dd9b0a699c98bd142ba7cbc1836fbc4eba2ac). Don't do this."
   ]
  },
  {
   "cell_type": "code",
   "execution_count": 11,
   "metadata": {},
   "outputs": [
    {
     "name": "stdout",
     "output_type": "stream",
     "text": [
      "[master 15471cd] Said hello to myself\n",
      " 1 file changed, 1 insertion(+), 1 deletion(-)\n",
      "On branch master\n",
      "Your branch is ahead of 'origin/master' by 1 commit.\n",
      "  (use \"git push\" to publish your local commits)\n",
      "nothing to commit, working directory clean\n"
     ]
    }
   ],
   "source": [
    "%%bash\n",
    "cd /tmp/Testing\n",
    "git commit -m \"Said hello to myself\"\n",
    "git status"
   ]
  },
  {
   "cell_type": "markdown",
   "metadata": {},
   "source": [
    "The `git commit -m...` version is just a way to specify a commit message without opening a text editor (ipython notebook can't handle it). Otherwise you just say `git commit` or `git commit -a` (if you `add`ed a new file to the current branch on the repository)\n",
    "\n",
    "Now we see that our branch, \"`master`\", has one more commit than the \"`origin/master`\" branch, the local copy of the branch that came from the upstream repository (nicknamed \"`origin`\" in this case). Let's push the changes."
   ]
  },
  {
   "cell_type": "markdown",
   "metadata": {},
   "source": [
    "`push`\n",
    "\n",
    "![push](git_push.png)\n",
    "\n",
    "The `push` command takes the changes you have made to your local repository and attempts to update a remote repository with them. If you're the only person working with both of these (which is how a solo GitHub project would work), then push should always succeed."
   ]
  },
  {
   "cell_type": "code",
   "execution_count": 12,
   "metadata": {},
   "outputs": [
    {
     "name": "stdout",
     "output_type": "stream",
     "text": [
      "On branch master\n",
      "Your branch is up-to-date with 'origin/master'.\n",
      "nothing to commit, working directory clean\n"
     ]
    },
    {
     "name": "stderr",
     "output_type": "stream",
     "text": [
      "To git@github.com:rahuldave/Testing.git\n",
      "   7ba94f7..15471cd  master -> master\n"
     ]
    }
   ],
   "source": [
    "%%bash\n",
    "cd /tmp/Testing\n",
    "git push\n",
    "git status"
   ]
  },
  {
   "cell_type": "markdown",
   "metadata": {},
   "source": [
    "###Remotes and `fetch`ing from them"
   ]
  },
  {
   "cell_type": "markdown",
   "metadata": {},
   "source": [
    "If you're working with other people, then it's possible that they have made changes to the remote repository between the time you first cloned it and now. `push` will fail. \n",
    "\n",
    "In our particular case of the `Testing` repository, this is not going to happen, since you just cloned it and presumably havent invited anyone to collaborate with you on it (you can do this from the settings link on the right side of the repository page). \n",
    "\n",
    "However you can imagine that the original repository `cs109/testing`, which you are now divorced from, has changed, and that you somehow want to pull those changes in.\n",
    "\n",
    "That's where the next two commands come in."
   ]
  },
  {
   "cell_type": "markdown",
   "metadata": {},
   "source": [
    "---\n",
    "\n",
    "`remote`\n",
    "\n",
    "We have seen so far that our repository has one \"remote\", or upstream repository, which has been identified with the word `origin`, as seen in `.git/config`. We now wish to add another remote, which we shall call `course`, which points to the original repository we forked from. We want to do this to pull in changes, in-case something changed there."
   ]
  },
  {
   "cell_type": "code",
   "execution_count": 13,
   "metadata": {},
   "outputs": [
    {
     "name": "stdout",
     "output_type": "stream",
     "text": [
      "[core]\n",
      "\trepositoryformatversion = 0\n",
      "\tfilemode = true\n",
      "\tbare = false\n",
      "\tlogallrefupdates = true\n",
      "\tignorecase = true\n",
      "\tprecomposeunicode = true\n",
      "[remote \"origin\"]\n",
      "\turl = git@github.com:rahuldave/Testing.git\n",
      "\tfetch = +refs/heads/*:refs/remotes/origin/*\n",
      "[branch \"master\"]\n",
      "\tremote = origin\n",
      "\tmerge = refs/heads/master\n",
      "[remote \"course\"]\n",
      "\turl = git@github.com:cs109/Testing.git\n",
      "\tfetch = +refs/heads/*:refs/remotes/course/*\n"
     ]
    }
   ],
   "source": [
    "%%bash\n",
    "cd /tmp/Testing\n",
    "git remote add course git@github.com:cs109/Testing.git\n",
    "cat .git/config"
   ]
  },
  {
   "cell_type": "markdown",
   "metadata": {},
   "source": [
    "Notice that the `master` branch only tracks the same branch on the `origin` remote. We havent set up any connection with the `course` remote as yet.\n",
    "\n",
    "Now lets figure out how to get changes from an upstream repository, be it our `origin` upstream that a collaborator has `push`ed too, or another `course` remote to which your memory-added head TF has posted a change!"
   ]
  },
  {
   "cell_type": "markdown",
   "metadata": {},
   "source": [
    "----\n",
    "`fetch`\n",
    "\n",
    "![fetch](git_fetch.png)\n",
    "\n",
    "Let's say a collaborator has pushed changes to your shared upstream repository while you were editing. Their local repository and the upstream repository now both contain their changes, but your local repository does not. To update your local repository, you run `fetch`.\n",
    "\n",
    "But what if you've committed changes in the meantime? Does your local repository contain your changes or theirs? The answer is that it contains a *record* of both, but they are kept separate. Remember that git repositories are not copies of your project files. They store all the contents of your files, along with a bunch of metadata, but in its own internal format. This is one of the reasons.\n",
    "\n",
    "Let's say that you and your collaborator both edited the same line of the same file at the same time in different ways. On your respective machines, you both add and commit your different changes, and your collaborator pushes theirs to the upstream repository. When you run `fetch`, git adds a record of their changes to your local repository *alongside* your own. These are called *branches*, and they represent different, coexisting versions of your project. The `fetch` command adds your collaborator's branch to your local repository, but keeps yours as well."
   ]
  },
  {
   "cell_type": "code",
   "execution_count": 14,
   "metadata": {},
   "outputs": [
    {
     "name": "stderr",
     "output_type": "stream",
     "text": [
      "From github.com:cs109/Testing\n",
      " * [new branch]      master     -> course/master\n"
     ]
    }
   ],
   "source": [
    "%%bash\n",
    "cd /tmp/Testing\n",
    "git fetch course"
   ]
  },
  {
   "cell_type": "markdown",
   "metadata": {},
   "source": [
    "You can see that a copy of a new remote branch has been made below, by providing the `-avv` argument to `git branch`."
   ]
  },
  {
   "cell_type": "code",
   "execution_count": 15,
   "metadata": {},
   "outputs": [
    {
     "name": "stdout",
     "output_type": "stream",
     "text": [
      "* master                15471cd [origin/master] Said hello to myself\n",
      "  remotes/course/master 7ba94f7 added a line in readme\n",
      "  remotes/origin/HEAD   -> origin/master\n",
      "  remotes/origin/master 15471cd Said hello to myself\n"
     ]
    }
   ],
   "source": [
    "%%bash\n",
    "cd /tmp/Testing\n",
    "git branch -avv"
   ]
  },
  {
   "cell_type": "markdown",
   "metadata": {},
   "source": [
    "Indeed, the way git works is by creating copies of remote branches locally. Then it just compares to these \"copy\" branches to see what changes have been made.\n",
    "\n",
    "Sometimes we want to merge the changes in...precisely we want to merge the change from `remotes/course/master` in. In HW0 and later here, we'll show you a case where you want to simply create another branch."
   ]
  },
  {
   "cell_type": "markdown",
   "metadata": {},
   "source": [
    "----\n",
    "`merge`\n",
    "\n",
    "![merge](git_merge.png)\n",
    "\n",
    "Having multiple branches is fine, but at some point, you'll want to combine the changes that you've made with those made by others. This is called merging.\n",
    "\n",
    "There are two general cases when merging two branches: first, the two branches are different but the changes are in unrelated places; and second, the two branches are different and the changes are in the same locations in the same files.\n",
    "\n",
    "The first scenario is easy. Git will simply apply both sets of changes to the appropriate places and put the resulting files into the staging area for you. Then you can commit the changes and push them back to the upstream repository. Your collaborator does the same, and everyone sees everything.\n",
    "\n",
    "The second scenario is more complicated. Let's say the two changes set some variable to different values. Git can't know which is the correct value. One solution would be to simply use the more recent change, but this very easily leads to self-inconsistent programs. A more conservative solution, and the one git uses, is to simply leave the decision to the user. When git detects a conflict that it cannot resolve, `merge` fails, and git places a modified version of the offending file in your project directory. **This is important:** the file that git puts into your directory is not actually *either* of the originals. It is a new file that has special markings around the locations that conflicted. We shall not consider this case in this lab, deferring it to a time just before you work with other collaborators on your projects.\n",
    "\n",
    "Lets merge in the changes from `course/master`: (The next 2-3 inputs only make sense if cs109/master is edited in-between)"
   ]
  },
  {
   "cell_type": "code",
   "execution_count": 16,
   "metadata": {},
   "outputs": [
    {
     "name": "stdout",
     "output_type": "stream",
     "text": [
      "Already up-to-date.\n",
      "On branch master\n",
      "Your branch is up-to-date with 'origin/master'.\n",
      "nothing to commit, working directory clean\n"
     ]
    }
   ],
   "source": [
    "%%bash\n",
    "cd /tmp/Testing\n",
    "git merge course/master\n",
    "git status"
   ]
  },
  {
   "cell_type": "markdown",
   "metadata": {},
   "source": [
    "We seem to be ahead of our upstream-tracking repository by 2 commits..why?"
   ]
  },
  {
   "cell_type": "code",
   "execution_count": 17,
   "metadata": {},
   "outputs": [
    {
     "name": "stdout",
     "output_type": "stream",
     "text": [
      "commit 15471cd871b642a45e2477041a6667bec184d7ad\n",
      "Author: Rahul Dave <rahuldave@gmail.com>\n",
      "Date:   Wed Sep 2 22:43:29 2015 -0400\n",
      "\n",
      "    Said hello to myself\n",
      "\n",
      "commit 7ba94f7e4ed9506b0b3eab02e03d516c2b38977e\n",
      "Author: Rahul Dave <rahuldave@gmail.com>\n",
      "Date:   Tue Sep 1 22:53:03 2015 -0400\n",
      "\n",
      "    added a line in readme\n",
      "\n",
      "commit 3a2909aa790f041f1426e51565674165e52acdc8\n",
      "Author: Rahul Dave <rahuldave@gmail.com>\n",
      "Date:   Fri Aug 28 02:44:21 2015 -0400\n",
      "\n",
      "    Added a test file to demonstrate git features\n"
     ]
    }
   ],
   "source": [
    "%%bash\n",
    "cd /tmp/Testing\n",
    "git log -3"
   ]
  },
  {
   "cell_type": "markdown",
   "metadata": {},
   "source": [
    "Aha: one commit came from the `course` upstream, and one was a merge commit. In the case you had edited the README.md at the same time and comitted locally, you would have been asked to resolve the conflict in the merge (the second case above).\n",
    "\n",
    "Lets push these changes to the origin now"
   ]
  },
  {
   "cell_type": "code",
   "execution_count": 18,
   "metadata": {},
   "outputs": [
    {
     "name": "stdout",
     "output_type": "stream",
     "text": [
      "On branch master\n",
      "Your branch is up-to-date with 'origin/master'.\n",
      "nothing to commit, working directory clean\n"
     ]
    },
    {
     "name": "stderr",
     "output_type": "stream",
     "text": [
      "Everything up-to-date\n"
     ]
    }
   ],
   "source": [
    "%%bash\n",
    "cd /tmp/Testing\n",
    "git push\n",
    "git status"
   ]
  },
  {
   "cell_type": "markdown",
   "metadata": {},
   "source": [
    "You can combine a fetch and a merge together by simply doing a git `pull`. This will fail if you and your collaborator have worked on the same file (since you will have to merge by hand), but is a great shortcut when the files  worked on are different. I use it all the times on a personal level too, to shift work between two different machines, as long as I am not working on both at the same time. The usual use case is day work on a work computer, and then evening work at home on the laptop. Read the docs if you are interested."
   ]
  },
  {
   "cell_type": "markdown",
   "metadata": {},
   "source": [
    "###Branching."
   ]
  },
  {
   "cell_type": "markdown",
   "metadata": {},
   "source": [
    "As you might have seen by now, everything in git is a branch. We have branches on remote (upstream) repositories, copies of remote branches in our local repository, and branches on local repositories which (so far) track remote branches (or more precisely local copies of remote repositories)"
   ]
  },
  {
   "cell_type": "code",
   "execution_count": 19,
   "metadata": {},
   "outputs": [
    {
     "name": "stdout",
     "output_type": "stream",
     "text": [
      "* master                15471cd [origin/master] Said hello to myself\n",
      "  remotes/course/master 7ba94f7 added a line in readme\n",
      "  remotes/origin/HEAD   -> origin/master\n",
      "  remotes/origin/master 15471cd Said hello to myself\n"
     ]
    }
   ],
   "source": [
    "%%bash\n",
    "cd /tmp/Testing\n",
    "git branch -avv"
   ]
  },
  {
   "cell_type": "markdown",
   "metadata": {},
   "source": [
    "And all of these branches are nothing but commit-streams in disguise, as can be seen above. Its a very simple model which leads to a lot of interesting version control patterns.\n",
    "\n",
    "Since branches are so light-weight, the recommended way of working on software using git is to create a new branch for each new feature you add, test it out, and if good, merge it into master. Then you deploy the software from master. But we have been using branches under the hood. Lets now lift the hood.\n",
    "\n",
    "----\n",
    "`branch`\n",
    "\n",
    "![branch](git_branch.png)\n",
    "\n",
    "Branches can also be created manually, and they are a useful way of organizing unfinished changes.\n",
    "\n",
    "The `branch` command has two forms. The first:\n",
    "\n",
    "`git branch`"
   ]
  },
  {
   "cell_type": "markdown",
   "metadata": {},
   "source": [
    "simply lists all of the branches in your local repository. If you run it without having created any branches, it will list only one, called `master`. This is the default branch. You have seen the use of `git branch -avv` to show all branches.\n",
    "\n",
    "The other form creates a branch with a given name:"
   ]
  },
  {
   "cell_type": "raw",
   "metadata": {},
   "source": [
    "$ git branch my-new-branch"
   ]
  },
  {
   "cell_type": "markdown",
   "metadata": {},
   "source": [
    "It's important to note that the other branch is not *active*. If you make changes, they will still apply to the `master` branch, not `my-new-branch`. To change this, you need the next command."
   ]
  },
  {
   "cell_type": "markdown",
   "metadata": {},
   "source": [
    "----\n",
    "`checkout`\n",
    "\n",
    "![checkout](git_checkout.png)\n",
    "\n",
    "Checkout switches the active branch. Since branches can have different changes, `checkout` may make the working directory look very different. For instance, if you have added new files to one branch, and then check another branch out, those files will no longer show up in the directory. They are still stored in the `.git` folder, but since they only exist in the other branch, they cannot be accessed until you check out the original branch."
   ]
  },
  {
   "cell_type": "raw",
   "metadata": {},
   "source": [
    "# Example\n",
    "$ git checkout my-new-branch"
   ]
  },
  {
   "cell_type": "markdown",
   "metadata": {},
   "source": [
    "You can combine creating a new branch and checking it out with the shortcut:"
   ]
  },
  {
   "cell_type": "raw",
   "metadata": {},
   "source": [
    "# Example\n",
    "$ git checkout -b my-new-branch"
   ]
  },
  {
   "cell_type": "markdown",
   "metadata": {},
   "source": [
    "Ok so lets try this out on our repository...."
   ]
  },
  {
   "cell_type": "code",
   "execution_count": 20,
   "metadata": {},
   "outputs": [],
   "source": [
    "%%bash\n",
    "cd /tmp/Testing\n",
    "git branch mybranch1"
   ]
  },
  {
   "cell_type": "markdown",
   "metadata": {},
   "source": [
    "See what branches we have created..."
   ]
  },
  {
   "cell_type": "code",
   "execution_count": 21,
   "metadata": {},
   "outputs": [
    {
     "name": "stdout",
     "output_type": "stream",
     "text": [
      "* master\n",
      "  mybranch1\n"
     ]
    }
   ],
   "source": [
    "%%bash\n",
    "cd /tmp/Testing\n",
    "git branch "
   ]
  },
  {
   "cell_type": "markdown",
   "metadata": {},
   "source": [
    "Jump onto the `mybranch1` branch..."
   ]
  },
  {
   "cell_type": "code",
   "execution_count": 22,
   "metadata": {},
   "outputs": [
    {
     "name": "stdout",
     "output_type": "stream",
     "text": [
      "  master\n",
      "* mybranch1\n"
     ]
    },
    {
     "name": "stderr",
     "output_type": "stream",
     "text": [
      "Switched to branch 'mybranch1'\n"
     ]
    }
   ],
   "source": [
    "%%bash\n",
    "cd /tmp/Testing\n",
    "git checkout mybranch1\n",
    "git branch"
   ]
  },
  {
   "cell_type": "markdown",
   "metadata": {},
   "source": [
    "Notice that it is bootstrapped off the `master` branch and has the same files."
   ]
  },
  {
   "cell_type": "code",
   "execution_count": 23,
   "metadata": {},
   "outputs": [
    {
     "name": "stdout",
     "output_type": "stream",
     "text": [
      "LICENSE\n",
      "README.md\n",
      "hello.md\n"
     ]
    }
   ],
   "source": [
    "%%bash\n",
    "cd /tmp/Testing\n",
    "ls"
   ]
  },
  {
   "cell_type": "markdown",
   "metadata": {},
   "source": [
    "You could have created this branch using `git checkout -b mybranch1`. Lets see the status here."
   ]
  },
  {
   "cell_type": "code",
   "execution_count": 24,
   "metadata": {},
   "outputs": [
    {
     "name": "stdout",
     "output_type": "stream",
     "text": [
      "On branch mybranch1\n",
      "nothing to commit, working directory clean\n"
     ]
    }
   ],
   "source": [
    "%%bash\n",
    "cd /tmp/Testing\n",
    "git status"
   ]
  },
  {
   "cell_type": "markdown",
   "metadata": {},
   "source": [
    "Lets add a new file...note that this file gets added on this branch only"
   ]
  },
  {
   "cell_type": "code",
   "execution_count": 25,
   "metadata": {},
   "outputs": [
    {
     "name": "stdout",
     "output_type": "stream",
     "text": [
      "On branch mybranch1\n",
      "Untracked files:\n",
      "  (use \"git add <file>...\" to include in what will be committed)\n",
      "\n",
      "\tworld.md\n",
      "\n",
      "nothing added to commit but untracked files present (use \"git add\" to track)\n"
     ]
    }
   ],
   "source": [
    "%%bash\n",
    "cd /tmp/Testing\n",
    "echo '# Hello world' > world.md\n",
    "git status"
   ]
  },
  {
   "cell_type": "markdown",
   "metadata": {},
   "source": [
    "We add the file to the index, and then commit the files to the local repository on the `mybranch` branch."
   ]
  },
  {
   "cell_type": "code",
   "execution_count": 26,
   "metadata": {},
   "outputs": [
    {
     "name": "stdout",
     "output_type": "stream",
     "text": [
      "On branch mybranch1\n",
      "Changes to be committed:\n",
      "  (use \"git reset HEAD <file>...\" to unstage)\n",
      "\n",
      "\tnew file:   world.md\n",
      "\n"
     ]
    }
   ],
   "source": [
    "%%bash\n",
    "cd /tmp/Testing\n",
    "git add .\n",
    "git status\n"
   ]
  },
  {
   "cell_type": "code",
   "execution_count": 27,
   "metadata": {},
   "outputs": [
    {
     "name": "stdout",
     "output_type": "stream",
     "text": [
      "[mybranch1 b673a9d] Added another test file to demonstrate git features\n",
      " 1 file changed, 1 insertion(+)\n",
      " create mode 100644 world.md\n",
      "On branch mybranch1\n",
      "nothing to commit, working directory clean\n"
     ]
    }
   ],
   "source": [
    "%%bash\n",
    "cd /tmp/Testing\n",
    "git commit -m \"Added another test file to demonstrate git features\" -a\n",
    "git status"
   ]
  },
  {
   "cell_type": "markdown",
   "metadata": {},
   "source": [
    "Ok we have committed. Lets try to push!"
   ]
  },
  {
   "cell_type": "code",
   "execution_count": 28,
   "metadata": {},
   "outputs": [
    {
     "name": "stderr",
     "output_type": "stream",
     "text": [
      "fatal: The current branch mybranch1 has no upstream branch.\n",
      "To push the current branch and set the remote as upstream, use\n",
      "\n",
      "    git push --set-upstream origin mybranch1\n",
      "\n"
     ]
    }
   ],
   "source": [
    "%%bash\n",
    "cd /tmp/Testing\n",
    "git push"
   ]
  },
  {
   "cell_type": "markdown",
   "metadata": {},
   "source": [
    "Oops that failed. Why? git didnt know what to push to on origin, and didnt want to assume we wanted to call the branch `mybranch1` on the remote. We need to tell that to git explicitly, as it tells us to."
   ]
  },
  {
   "cell_type": "code",
   "execution_count": 29,
   "metadata": {},
   "outputs": [
    {
     "name": "stdout",
     "output_type": "stream",
     "text": [
      "Branch mybranch1 set up to track remote branch mybranch1 from origin.\n"
     ]
    },
    {
     "name": "stderr",
     "output_type": "stream",
     "text": [
      "To git@github.com:rahuldave/Testing.git\n",
      " * [new branch]      mybranch1 -> mybranch1\n"
     ]
    }
   ],
   "source": [
    "%%bash\n",
    "cd /tmp/Testing\n",
    "git push --set-upstream origin mybranch1"
   ]
  },
  {
   "cell_type": "markdown",
   "metadata": {},
   "source": [
    "Aha, now we are set my with both a remote and a local for `mybranch1`"
   ]
  },
  {
   "cell_type": "code",
   "execution_count": 30,
   "metadata": {},
   "outputs": [
    {
     "name": "stdout",
     "output_type": "stream",
     "text": [
      "  master                   15471cd [origin/master] Said hello to myself\n",
      "* mybranch1                b673a9d [origin/mybranch1] Added another test file to demonstrate git features\n",
      "  remotes/course/master    7ba94f7 added a line in readme\n",
      "  remotes/origin/HEAD      -> origin/master\n",
      "  remotes/origin/master    15471cd Said hello to myself\n",
      "  remotes/origin/mybranch1 b673a9d Added another test file to demonstrate git features\n"
     ]
    }
   ],
   "source": [
    "%%bash\n",
    "cd /tmp/Testing\n",
    "git branch -avv"
   ]
  },
  {
   "cell_type": "code",
   "execution_count": 31,
   "metadata": {},
   "outputs": [
    {
     "name": "stdout",
     "output_type": "stream",
     "text": [
      "Your branch is up-to-date with 'origin/master'.\n"
     ]
    },
    {
     "name": "stderr",
     "output_type": "stream",
     "text": [
      "Switched to branch 'master'\n"
     ]
    }
   ],
   "source": [
    "%%bash\n",
    "cd /tmp/Testing\n",
    "git checkout master"
   ]
  },
  {
   "cell_type": "markdown",
   "metadata": {},
   "source": [
    "###Recovering from a mistake"
   ]
  },
  {
   "cell_type": "markdown",
   "metadata": {},
   "source": [
    "Now suppose for a second that this `mybranch1` was created by someone else. We wanted to get it down using `fetch` and play. But we called `pull`, which did an automatic merge for us."
   ]
  },
  {
   "cell_type": "code",
   "execution_count": 32,
   "metadata": {},
   "outputs": [
    {
     "name": "stdout",
     "output_type": "stream",
     "text": [
      "Updating 15471cd..b673a9d\n",
      "Fast-forward\n",
      " world.md | 1 +\n",
      " 1 file changed, 1 insertion(+)\n",
      " create mode 100644 world.md\n"
     ]
    },
    {
     "name": "stderr",
     "output_type": "stream",
     "text": [
      "From github.com:rahuldave/Testing\n",
      " * branch            mybranch1  -> FETCH_HEAD\n"
     ]
    }
   ],
   "source": [
    "%%bash\n",
    "cd /tmp/Testing\n",
    "git pull origin mybranch1"
   ]
  },
  {
   "cell_type": "code",
   "execution_count": 33,
   "metadata": {},
   "outputs": [
    {
     "name": "stdout",
     "output_type": "stream",
     "text": [
      "On branch master\n",
      "Your branch is ahead of 'origin/master' by 1 commit.\n",
      "  (use \"git push\" to publish your local commits)\n",
      "nothing to commit, working directory clean\n"
     ]
    }
   ],
   "source": [
    "%%bash\n",
    "cd /tmp/Testing\n",
    "git status"
   ]
  },
  {
   "cell_type": "markdown",
   "metadata": {},
   "source": [
    "oops, that was not what we wanted. We undo it using `git reset`, to go back to the state at the last commit."
   ]
  },
  {
   "cell_type": "code",
   "execution_count": 34,
   "metadata": {},
   "outputs": [
    {
     "name": "stdout",
     "output_type": "stream",
     "text": [
      "HEAD is now at 15471cd Said hello to myself\n"
     ]
    }
   ],
   "source": [
    "%%bash\n",
    "cd /tmp/Testing\n",
    "git reset --hard origin/master"
   ]
  },
  {
   "cell_type": "code",
   "execution_count": 35,
   "metadata": {},
   "outputs": [
    {
     "name": "stdout",
     "output_type": "stream",
     "text": [
      "On branch master\n",
      "Your branch is up-to-date with 'origin/master'.\n",
      "nothing to commit, working directory clean\n"
     ]
    }
   ],
   "source": [
    "%%bash\n",
    "cd /tmp/Testing\n",
    "git status"
   ]
  },
  {
   "cell_type": "markdown",
   "metadata": {},
   "source": [
    "###Changing only one file"
   ]
  },
  {
   "cell_type": "markdown",
   "metadata": {},
   "source": [
    "The last git command I want to talk about, since it might come handy in the course, is the situation in which you dont want to merge an entire branch from the upstream, but just one file from it. There is a direct use case for it. Indeed, suppose I've made an error in this lab and want to correct it. So i fix it in the upstream. In the meanwhile you have edited some other files. You dont care to manually ignore my older copies of those files. So you want to fix just one file from this new branch. This is how you do it.\n",
    "\n",
    "First you fetch from the remote (i ought to be doing this with the course remote but just want to illustrate it here)"
   ]
  },
  {
   "cell_type": "code",
   "execution_count": 36,
   "metadata": {
    "collapsed": true
   },
   "outputs": [],
   "source": [
    "%%bash\n",
    "cd /tmp/Testing\n",
    "git fetch origin"
   ]
  },
  {
   "cell_type": "code",
   "execution_count": 37,
   "metadata": {},
   "outputs": [
    {
     "name": "stdout",
     "output_type": "stream",
     "text": [
      "* master                   15471cd [origin/master] Said hello to myself\n",
      "  mybranch1                b673a9d [origin/mybranch1] Added another test file to demonstrate git features\n",
      "  remotes/course/master    7ba94f7 added a line in readme\n",
      "  remotes/origin/HEAD      -> origin/master\n",
      "  remotes/origin/master    15471cd Said hello to myself\n",
      "  remotes/origin/mybranch1 b673a9d Added another test file to demonstrate git features\n"
     ]
    }
   ],
   "source": [
    "%%bash\n",
    "cd /tmp/Testing\n",
    "git branch -avv"
   ]
  },
  {
   "cell_type": "code",
   "execution_count": 38,
   "metadata": {
    "collapsed": true
   },
   "outputs": [],
   "source": [
    "%%bash\n",
    "cd /tmp/Testing\n",
    "git checkout origin/mybranch1 -- world.md"
   ]
  },
  {
   "cell_type": "markdown",
   "metadata": {},
   "source": [
    "Why does the syntax have `origin/mybranch1`? Remember that multiple remotes may have the same branch...so you want to be specific. So we check out `origin`'s `mybranch1`, and only want `world.md`."
   ]
  },
  {
   "cell_type": "code",
   "execution_count": 39,
   "metadata": {},
   "outputs": [
    {
     "name": "stdout",
     "output_type": "stream",
     "text": [
      "On branch master\n",
      "Your branch is up-to-date with 'origin/master'.\n",
      "Changes to be committed:\n",
      "  (use \"git reset HEAD <file>...\" to unstage)\n",
      "\n",
      "\tnew file:   world.md\n",
      "\n"
     ]
    }
   ],
   "source": [
    "%%bash\n",
    "cd /tmp/Testing\n",
    "git status"
   ]
  },
  {
   "cell_type": "markdown",
   "metadata": {},
   "source": [
    "Note that the file as automatically added to the index. We'll commit and push."
   ]
  },
  {
   "cell_type": "code",
   "execution_count": 40,
   "metadata": {},
   "outputs": [
    {
     "name": "stdout",
     "output_type": "stream",
     "text": [
      "[master 877fc2d] want world in master\n",
      " 1 file changed, 1 insertion(+)\n",
      " create mode 100644 world.md\n"
     ]
    }
   ],
   "source": [
    "%%bash\n",
    "cd /tmp/Testing\n",
    "git commit -m \"want world in master\" "
   ]
  },
  {
   "cell_type": "code",
   "execution_count": 41,
   "metadata": {},
   "outputs": [
    {
     "name": "stdout",
     "output_type": "stream",
     "text": [
      "On branch master\n",
      "Your branch is ahead of 'origin/master' by 1 commit.\n",
      "  (use \"git push\" to publish your local commits)\n",
      "nothing to commit, working directory clean\n"
     ]
    }
   ],
   "source": [
    "%%bash\n",
    "cd /tmp/Testing\n",
    "git status"
   ]
  },
  {
   "cell_type": "code",
   "execution_count": 42,
   "metadata": {},
   "outputs": [
    {
     "name": "stderr",
     "output_type": "stream",
     "text": [
      "To git@github.com:rahuldave/Testing.git\n",
      "   15471cd..877fc2d  master -> master\n"
     ]
    }
   ],
   "source": [
    "%%bash\n",
    "cd /tmp/Testing\n",
    "git push"
   ]
  },
  {
   "cell_type": "markdown",
   "metadata": {},
   "source": [
    "Note that in git versions > 2.0, which you must use, `git push` will push the current branch to its appropriate remote, all of which can be seen through `git branch -avv` or by looking at the `config` file."
   ]
  },
  {
   "cell_type": "code",
   "execution_count": 43,
   "metadata": {},
   "outputs": [
    {
     "name": "stdout",
     "output_type": "stream",
     "text": [
      "[core]\n",
      "\trepositoryformatversion = 0\n",
      "\tfilemode = true\n",
      "\tbare = false\n",
      "\tlogallrefupdates = true\n",
      "\tignorecase = true\n",
      "\tprecomposeunicode = true\n",
      "[remote \"origin\"]\n",
      "\turl = git@github.com:rahuldave/Testing.git\n",
      "\tfetch = +refs/heads/*:refs/remotes/origin/*\n",
      "[branch \"master\"]\n",
      "\tremote = origin\n",
      "\tmerge = refs/heads/master\n",
      "[remote \"course\"]\n",
      "\turl = git@github.com:cs109/Testing.git\n",
      "\tfetch = +refs/heads/*:refs/remotes/course/*\n",
      "[branch \"mybranch1\"]\n",
      "\tremote = origin\n",
      "\tmerge = refs/heads/mybranch1\n"
     ]
    }
   ],
   "source": [
    "%%bash\n",
    "cd /tmp/Testing\n",
    "cat .git/config"
   ]
  },
  {
   "cell_type": "markdown",
   "metadata": {},
   "source": [
    "----"
   ]
  },
  {
   "cell_type": "markdown",
   "metadata": {},
   "source": [
    "##The Homework git flow"
   ]
  },
  {
   "cell_type": "markdown",
   "metadata": {},
   "source": [
    "![homework](cs109gitflow2.png)"
   ]
  },
  {
   "cell_type": "markdown",
   "metadata": {},
   "source": [
    "To make `hw0.ipynb` easily accessible, we added it to the public lab repo, so that you can read it even without having a github account. (Otherwise we would have a chicken and egg problem.). This is because our homework repository is private, and we have set it up so that your repositories are private as well.\n",
    "\n",
    "Nevertheless, we want you to get acquainted with the workflow you must execute in order to obtain and submit homeworks. \n",
    "\n",
    "Let me first describe the steps by which you gain access to the homework.\n",
    "\n",
    "1. At the beginning of this document you were asked to obtain a github id and enter it in the mandatory survey. We will use this github id to construct a homework repository for you with read-write access, and give you access to our read-only homework repository. You will be added to a github organization `cs109-students`.\n",
    "2. Our read-only repository is `cs109-students/2015hw`. All students have read-only access to this repository. It will serve the job of the `course` remote, like above. Any changes after the homework has gone out will be made here.\n",
    "3. You will have your own read-write repository under the `cs109-students` organization, which will be of the form `cs109-students/userid-2015hw`. Only you and the cs109 staff have access to this repository, thus ensuring the privacy of your homework.\n",
    "4. When each homework is released, we will create a **branch** on your remote repository, `cs109-students/userid-2015hw`. The branches are, unimaginatively named: `hw0`, `hw1`,...,`hw5`. (For the curious, the way this works is by us creating one remote per student for a local clone of our `cs109-students/2015hw` repository, and pushing the new branch to it. We only push to a new branch each time as we dont want to be messing with a branch you have already worked on.). There is `master` branch too, which will have some instructions, but nothing very exciting. You will never work on this branch.\n",
    "\n",
    "So now, how to you obtain and submit the homework? You wont be forking here.\n",
    "\n",
    "1. You first make a clone of your repository. From the terminal, you issue the command: `git clone git@github.com:cs109-students/userid-2015hw.git` (for ssh users) or `git clone https://github.com/cs109-students/userid-2015hw.git` (for https users). Substitute your own userid for `userid`.\n",
    "2. Next you add a remote `course` to track the read-only \"guru\" repository. The command for this is: `git remote add course git@github.com:cs109-students/2015hw.git` or `git remote add course https://github.com/cs109-students/2015hw.git`. This well help to incorporate any changes, just like above.\n",
    "3. Your clone will come with a `master` branch, and perhaps a `hw0` branch. In either case you should first do `git fetch origin hw0`, which fetches from *your* remote repository on github the `hw0` branch. Then you issue `git checkout -b hw0 origin/hw0`. This command makes a new local branch `hw0` on your machine which tracks the `hw0` branch on your remote.\n",
    "4. You are now in the `hw0` branch. This is where you will work on homework 0. Start the ipython notebook in the repository and run the homework. The file you will use is `hw0.ipynb`. DO NOT run the notebook ending in `_original.ipynb`. These are simply copies of the homework. We made these copies so that you can update them from our `course` remote in case we make any changes. You will now engage in the \"add/commit/push\" cycle as described above. (The `push` will only push to the remote `hw0` branch.)\n",
    "5. We'll grade the last commit you make before the homework deadline. We will be looking for the file `hw0.ipynb`. (In actuality we wont grade homework 0 but check that you submitted it. But we will be using this mechanism to grade the homeworks from homework 1 onwards.)\n",
    "6. When we are ready to send out homework 1 to you, we will create a new branch on your remote repository `git@github.com:cs109-students/userid-2015hw.git` on github with the name `hw1`. You will now repeat the process from step 3 onwards: `git fetch origin hw1` followed by `git checkout -b hw1 origin/hw1`. Then you work on the `hw1` branch, and engage in the \"add/commit/push\" cycle by running `hw1.ipynb`. And so on...\n",
    "\n",
    "Once again, in case we make changes, you can incorporate them into your repo by doing: `git fetch course; git checkout course/hw0 -- hw0_original.ipynb`. An \"add/commit/push\" cycle will make sure these changes go into your fork as well. If you intend to work on the changed file `hw0_original.ipynb`, simply copy the file to `hw0.ipynb` and work on it. \n",
    "\n",
    "Remember that we will be looking for files `hw0.ipynb`, `hw1.ipynb`,...,`hw5.ipynb` as the semester goes on.\n",
    "\n",
    "This process is summarized in the diagram above.\n",
    "\n",
    "The homework repos are private, shared between you and the course staff. DO NOT share them or add any collaborators. That will violate the Honor Policy."
   ]
  },
  {
   "cell_type": "markdown",
   "metadata": {},
   "source": [
    "##The Lab git flow"
   ]
  },
  {
   "cell_type": "markdown",
   "metadata": {},
   "source": [
    "Lets talk a bit about how labs and sections work in this course:\n",
    "\n",
    "1. Lab Notebooks are made available every Thursday evening.\n",
    "2. Lab Videos (which may not cover everything in the notebooks) are made available every Friday as well\n",
    "3. In sections starting Monday morning, and running upto the next Friday, your TA will present part of the lab to you. You ought to have looked at and perhaps tried the lab over the previous weekend, and your section might reach a consensus on what you'd like your TF to focus on: please communicate this.\n",
    "\n",
    "(Sections are 2 hours long. The first hour will be spent going over the lab, while the second if an office hour, where you can ask your TA questions about the homework, the lectures, the subject matter, and even the lab).\n",
    "\n",
    "The labs will be made available on public github repositories, with naming schemes like `cs109/2015lab1`.\n",
    "\n",
    "This is how you ought to work with them (our github tutorial has an example of this process on the `cs109/testing` repository):\n",
    "\n",
    "1. First fork the lab from the github web interface. For example, the first lab is at: https://github.com/cs109/2015lab1 . The fork button is at the upper right corner of the page. Press it.\n",
    "2. When it asks you where to fork the lab, choose your own github userid. The web interface will then take you to the web page for your fork. Mine is at: https://github.com/rahuldave/2015lab1 .\n",
    "3. Now look for the clone url at the bottom right of the page. If you set up your ssh keys, use the ssh url, else use the https url. Mine are `git@github.com:rahuldave/2015lab1.git` and `https://github.com/rahuldave/2015lab1.git` respectively. \n",
    "4. Clone your fork down to your machine by obtaining a terminal (`/Applications/Utilities/Terminal.app` or equivalent on mac and `git-bash.exe` on windows). Change (`cd`) into an appropriate folder and clone by doing `git clone url` where the `url` is the one in step 3.\n",
    "5. Add a remote for the original repository that you forked from. We'll call this remote `course`. The command for this, for example, for the first lab is: `git remote add course git@github.com:cs109/2015lab1.git` or `git remote add course https://github.com/cs109/2015lab1.git`\n",
    "6. Now you have a local repository. Start the ipython notebook in the repository and run the labs. DO NOT run the notebooks ending in `_original.ipynb`. These are simply copies of the labs. We made these copies so that you can update them from our `course` remote in case we make any changes.\n",
    "\n",
    "For Lab 1 I'd start with pythonpandas, followed by babypython, and finally git. The git notebook can be run under the ipython notebook. But the git commands can also be run directly on a terminal, which is probably the best place to do them...you can keep the notebook on the side to read as you follow along). So after once having read the tutorial, as described earlier, you now get to work through it.\n",
    "\n",
    "When you follow along, you can add in your own notes, and try your own variations. As you are doing this, dont forget to continue doing the \"add/commit/push\" cycle, so that you save and version your changes, and push them to your fork. This typically looks like:\n",
    "    - git add .\n",
    "    - git commit -a\n",
    "    - git push\n",
    "    \n",
    "In case we make changes, you can incorporate them into your repo by doing: `git fetch course; git checkout course/master -- labname_original.ipynb` where `labname.ipynb` is the lab in question. An \"add/commit/push\" cycle will make sure these changes go into your fork as well. If you intend to work on the changed file, simply copy the file to another one and work on it. Or you could make a new branch. Remember that this fork is YOUR repository, and you can do to it what you like. Your fork is public.\n",
    "\n",
    "The diagram below should help elucidate the above and serve as a command cheat-sheet.\n",
    "![homework](cs109gitflow3.png)\n",
    "\n"
   ]
  },
  {
   "cell_type": "code",
   "execution_count": null,
   "metadata": {
    "collapsed": true
   },
   "outputs": [],
   "source": []
  },
  {
   "cell_type": "markdown",
   "metadata": {},
   "source": [
    "## Creating a new repository"
   ]
  },
  {
   "cell_type": "markdown",
   "metadata": {},
   "source": [
    "Creating a repository can be done with git command line tools, or it can be done on github. On your github home, click on the 'Repositories' tab, then click the green 'New' button. You'll be brought to a page that asks for some basic project information.\n",
    "\n",
    "![new repo](github_new.png)\n",
    "\n",
    " - The repository name needs to be unique, but only amongst *your* github repositories. Despite what github suggests, try to pick something at least a little representative of your project.\n",
    " \n",
    " - The description field is just a short text field that will accompany your repository's name on the github website.\n",
    "\n",
    " - If you're creating a new repository, check the \"Initialize this repository with a README\" box. This is a little bit of a misnomer. If you don't do this, you won't be able to clone your repository at all. Instead, you'll have to manually create a new repository on your computer and upload that to github. Suffice to say, unless you've got an existing git repository that was hosted somewhere besides github, *always check this box*.\n",
    "\n",
    " - You're free to click the `.gitignore` or `license` buttons, too, but there's no requirement to do so. You can easily create either later. For our class I use a python `.gitignore` from the dropdown menu"
   ]
  },
  {
   "cell_type": "markdown",
   "metadata": {},
   "source": [
    "----"
   ]
  },
  {
   "cell_type": "markdown",
   "metadata": {},
   "source": [
    "## Github Pages"
   ]
  },
  {
   "cell_type": "markdown",
   "metadata": {},
   "source": [
    "In addition to hosting git repositories, github also provides web hosting for each user and project. Github provides [some documentation](https://pages.github.com/), but it's easier to create one than it is to figure out what to do with it next."
   ]
  },
  {
   "cell_type": "markdown",
   "metadata": {},
   "source": [
    "### Automatically Generated Project Pages"
   ]
  },
  {
   "cell_type": "markdown",
   "metadata": {},
   "source": [
    "The easiest (and most limited) mechanism for creating a project page is to use the automatic page generator. Github's documentation does a fantastic job of guiding you through this, so I won't spend time on it. It's a 30-second process.\n",
    "\n",
    "To edit the page, you can checkout the newly created `gh-pages` branch in your project and edit the index.html file. A much easier way to edit the page is simply to go through the automatic page generator tool again. It might seem counterintuitive, but github saves the content that you added the first time around, so you can make small changes without too much trouble.\n",
    "\n",
    "In the end, automatically generated pages are a great replacement for a README.md file, but not much beyond that. You are limited to a single `index.html` file, and the templates are fixed. If you want a larger site or more customization options, you're better off doing something else."
   ]
  },
  {
   "cell_type": "markdown",
   "metadata": {},
   "source": [
    "### Static Project Pages"
   ]
  },
  {
   "cell_type": "markdown",
   "metadata": {},
   "source": [
    "The next natural step is to use plain old static HTML. Regardless of how you create your site, github uses the `gh-pages` branch of your project to find your website files. One way to create this branch is to click on the \"branch\" button on your repository page:\n",
    "\n",
    "<img src='github_branch.png' style=\"width:350px; display:inline-block;\">\n",
    "\n",
    "Alternately, if you've already clone your repository somewhere, you can do it on the command line:"
   ]
  },
  {
   "cell_type": "raw",
   "metadata": {},
   "source": [
    "$ git branch gh-pages\n",
    "$ git checkout gh-pages"
   ]
  },
  {
   "cell_type": "markdown",
   "metadata": {},
   "source": [
    "When you push changes to this branch, they will immediately be reflected on the web at http://your-username.github.io/your-projectname.\n",
    "\n",
    "You can use any static HTML, handwritten or otherwise."
   ]
  },
  {
   "cell_type": "markdown",
   "metadata": {},
   "source": [
    "----"
   ]
  },
  {
   "cell_type": "markdown",
   "metadata": {},
   "source": [
    "## Git habits"
   ]
  },
  {
   "cell_type": "markdown",
   "metadata": {},
   "source": [
    "** * Commit early, commit often. * **\n",
    "\n",
    "Git is more effective when used at a fine granularity. For starters, you can't undo what you haven't committed, so committing lots of small changes makes it easier to find the right rollback point. Also, merging becomes a lot easier when you only have to deal with a handful of conflicts.\n",
    "\n",
    "** * Commit unrelated changes separately. * **\n",
    "\n",
    "Identifying the source of a bug or understanding the reason why a particular piece of code exists is much easier when commits focus on related changes. Some of this has to do with simplifying commit messages and making it easier to look through logs, but it has other related benefits: commits are smaller and simpler, and merge conflicts are confined to only the commits which actually have conflicting code.\n",
    "\n",
    "** * Do not commit binaries and other temporary files. * **\n",
    "\n",
    "Git is meant for tracking changes. In nearly all cases, the only meaningful difference between the contents of two binaries is that they are different. If you change source files, compile, and commit the resulting binary, git sees an entirely different file. The end result is that the git repository (which contains a complete history, remember) begins to become bloated with the history of many dissimilar binaries. Worse, there's often little advantage to keeping those files in the history. An argument can be made for periodically snapshotting working binaries, but things like object files, compiled python files, and editor auto-saves are basically wasted space.\n",
    "\n",
    "** * Ignore files which should not be committed * **\n",
    "\n",
    "Git comes with a built-in mechanism for ignoring certain types of files. Placing filenames or wildcards in a `.gitignore` file placed in the top-level directory (where the `.git` directory is also located) will cause git to ignore those files when checking file status. This is a good way to ensure you don't commit the wrong files accidentally, and it also makes the output of `git status` somewhat cleaner.\n",
    "\n",
    "** * Always make a branch for new changes * **\n",
    "\n",
    "While it's tempting to work on new code directly in the `master` branch, it's usually a good idea to create a new one instead, especially for team-based projects. The major advantage to this practice is that it keeps logically disparate change sets separate. This means that if two people are working on improvements in two different branches, when they merge, the actual workflow is reflected in the git history. Plus, explicitly creating branches adds some semantic meaning to your branch structure. Moreover, there is very little difference in how you use git.\n",
    "\n",
    "** * Write good commit messages * **\n",
    "\n",
    "I cannot understate the importance of this.\n",
    "\n",
    "** Seriously. Write good commit messages. **"
   ]
  }
 ],
 "metadata": {
  "kernelspec": {
   "display_name": "Python 3",
   "language": "python",
   "name": "python3"
  },
  "language_info": {
   "codemirror_mode": {
    "name": "ipython",
    "version": 3
   },
   "file_extension": ".py",
   "mimetype": "text/x-python",
   "name": "python",
   "nbconvert_exporter": "python",
   "pygments_lexer": "ipython3",
   "version": "3.6.4"
  }
 },
 "nbformat": 4,
 "nbformat_minor": 1
}
